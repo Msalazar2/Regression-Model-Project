{
 "cells": [
  {
   "cell_type": "code",
   "execution_count": 1,
   "id": "a9512521",
   "metadata": {},
   "outputs": [],
   "source": [
    "import pandas as pd\n",
    "import numpy as np\n",
    "\n",
    "import matplotlib.pyplot as plt\n",
    "import seaborn as sns\n",
    "\n",
    "import wrangle as w\n",
    "import model as m\n",
    "import preprocess as p\n",
    "import explore as ex\n",
    "import evaluate as e\n",
    "\n",
    "from sklearn.linear_model import LinearRegression, LassoLars, TweedieRegressor\n",
    "from sklearn.preprocessing import PolynomialFeatures\n",
    "\n",
    "from sklearn.ensemble import RandomForestRegressor\n",
    "from xgboost import XGBRegressor"
   ]
  },
  {
   "cell_type": "code",
   "execution_count": 2,
   "id": "f92385a6",
   "metadata": {},
   "outputs": [
    {
     "name": "stdout",
     "output_type": "stream",
     "text": [
      "found data\n"
     ]
    },
    {
     "data": {
      "text/plain": [
       "(52441, 9)"
      ]
     },
     "execution_count": 2,
     "metadata": {},
     "output_type": "execute_result"
    }
   ],
   "source": [
    "df = w.get_zillow()\n",
    "df.shape"
   ]
  },
  {
   "cell_type": "code",
   "execution_count": 3,
   "id": "983ed83c",
   "metadata": {},
   "outputs": [
    {
     "name": "stdout",
     "output_type": "stream",
     "text": [
      "found data\n"
     ]
    },
    {
     "data": {
      "text/html": [
       "<div>\n",
       "<style scoped>\n",
       "    .dataframe tbody tr th:only-of-type {\n",
       "        vertical-align: middle;\n",
       "    }\n",
       "\n",
       "    .dataframe tbody tr th {\n",
       "        vertical-align: top;\n",
       "    }\n",
       "\n",
       "    .dataframe thead th {\n",
       "        text-align: right;\n",
       "    }\n",
       "</style>\n",
       "<table border=\"1\" class=\"dataframe\">\n",
       "  <thead>\n",
       "    <tr style=\"text-align: right;\">\n",
       "      <th></th>\n",
       "      <th>bedrooms</th>\n",
       "      <th>bathrooms</th>\n",
       "      <th>square_ft</th>\n",
       "      <th>tax_value</th>\n",
       "      <th>year</th>\n",
       "      <th>county</th>\n",
       "    </tr>\n",
       "  </thead>\n",
       "  <tbody>\n",
       "    <tr>\n",
       "      <th>0</th>\n",
       "      <td>4</td>\n",
       "      <td>3.5</td>\n",
       "      <td>3100</td>\n",
       "      <td>1023282</td>\n",
       "      <td>1998</td>\n",
       "      <td>Orange</td>\n",
       "    </tr>\n",
       "    <tr>\n",
       "      <th>1</th>\n",
       "      <td>2</td>\n",
       "      <td>1.0</td>\n",
       "      <td>1465</td>\n",
       "      <td>464000</td>\n",
       "      <td>1967</td>\n",
       "      <td>Ventura</td>\n",
       "    </tr>\n",
       "    <tr>\n",
       "      <th>2</th>\n",
       "      <td>3</td>\n",
       "      <td>2.0</td>\n",
       "      <td>1243</td>\n",
       "      <td>564778</td>\n",
       "      <td>1962</td>\n",
       "      <td>Orange</td>\n",
       "    </tr>\n",
       "    <tr>\n",
       "      <th>3</th>\n",
       "      <td>4</td>\n",
       "      <td>3.0</td>\n",
       "      <td>2376</td>\n",
       "      <td>145143</td>\n",
       "      <td>1970</td>\n",
       "      <td>Los Angeles</td>\n",
       "    </tr>\n",
       "    <tr>\n",
       "      <th>4</th>\n",
       "      <td>4</td>\n",
       "      <td>3.0</td>\n",
       "      <td>2962</td>\n",
       "      <td>773303</td>\n",
       "      <td>1950</td>\n",
       "      <td>Los Angeles</td>\n",
       "    </tr>\n",
       "  </tbody>\n",
       "</table>\n",
       "</div>"
      ],
      "text/plain": [
       "   bedrooms  bathrooms  square_ft  tax_value  year       county\n",
       "0         4        3.5       3100    1023282  1998       Orange\n",
       "1         2        1.0       1465     464000  1967      Ventura\n",
       "2         3        2.0       1243     564778  1962       Orange\n",
       "3         4        3.0       2376     145143  1970  Los Angeles\n",
       "4         4        3.0       2962     773303  1950  Los Angeles"
      ]
     },
     "execution_count": 3,
     "metadata": {},
     "output_type": "execute_result"
    }
   ],
   "source": [
    "df = w.clean_zillow()\n",
    "df.head()"
   ]
  },
  {
   "cell_type": "code",
   "execution_count": 4,
   "id": "c23b7218",
   "metadata": {},
   "outputs": [
    {
     "data": {
      "text/plain": [
       "3     23339\n",
       "4     15222\n",
       "2      8330\n",
       "5      3970\n",
       "6       633\n",
       "1       602\n",
       "7       106\n",
       "8        24\n",
       "9         8\n",
       "12        3\n",
       "10        2\n",
       "14        1\n",
       "11        1\n",
       "Name: bedrooms, dtype: int64"
      ]
     },
     "execution_count": 4,
     "metadata": {},
     "output_type": "execute_result"
    }
   ],
   "source": [
    "df.bedrooms.value_counts()"
   ]
  },
  {
   "cell_type": "code",
   "execution_count": 5,
   "id": "f7445a4b",
   "metadata": {},
   "outputs": [
    {
     "data": {
      "text/plain": [
       "2.0     21879\n",
       "3.0     10660\n",
       "1.0      9534\n",
       "2.5      3930\n",
       "4.0      2227\n",
       "3.5       913\n",
       "1.5       839\n",
       "5.0       802\n",
       "4.5       682\n",
       "6.0       322\n",
       "5.5       224\n",
       "7.0        88\n",
       "8.0        53\n",
       "6.5        47\n",
       "7.5        16\n",
       "9.0        13\n",
       "10.0        5\n",
       "11.0        3\n",
       "8.5         2\n",
       "18.0        1\n",
       "13.0        1\n",
       "Name: bathrooms, dtype: int64"
      ]
     },
     "execution_count": 5,
     "metadata": {},
     "output_type": "execute_result"
    }
   ],
   "source": [
    "df.bathrooms.value_counts()"
   ]
  },
  {
   "cell_type": "code",
   "execution_count": 6,
   "id": "099f9542",
   "metadata": {},
   "outputs": [
    {
     "data": {
      "text/html": [
       "<div>\n",
       "<style scoped>\n",
       "    .dataframe tbody tr th:only-of-type {\n",
       "        vertical-align: middle;\n",
       "    }\n",
       "\n",
       "    .dataframe tbody tr th {\n",
       "        vertical-align: top;\n",
       "    }\n",
       "\n",
       "    .dataframe thead th {\n",
       "        text-align: right;\n",
       "    }\n",
       "</style>\n",
       "<table border=\"1\" class=\"dataframe\">\n",
       "  <thead>\n",
       "    <tr style=\"text-align: right;\">\n",
       "      <th></th>\n",
       "      <th>bedrooms</th>\n",
       "      <th>bathrooms</th>\n",
       "      <th>square_ft</th>\n",
       "      <th>tax_value</th>\n",
       "      <th>year</th>\n",
       "      <th>county</th>\n",
       "    </tr>\n",
       "  </thead>\n",
       "  <tbody>\n",
       "  </tbody>\n",
       "</table>\n",
       "</div>"
      ],
      "text/plain": [
       "Empty DataFrame\n",
       "Columns: [bedrooms, bathrooms, square_ft, tax_value, year, county]\n",
       "Index: []"
      ]
     },
     "execution_count": 6,
     "metadata": {},
     "output_type": "execute_result"
    }
   ],
   "source": [
    "df[df.square_ft == 0]"
   ]
  },
  {
   "cell_type": "code",
   "execution_count": 7,
   "id": "4e4e5b20",
   "metadata": {},
   "outputs": [
    {
     "data": {
      "text/html": [
       "<div>\n",
       "<style scoped>\n",
       "    .dataframe tbody tr th:only-of-type {\n",
       "        vertical-align: middle;\n",
       "    }\n",
       "\n",
       "    .dataframe tbody tr th {\n",
       "        vertical-align: top;\n",
       "    }\n",
       "\n",
       "    .dataframe thead th {\n",
       "        text-align: right;\n",
       "    }\n",
       "</style>\n",
       "<table border=\"1\" class=\"dataframe\">\n",
       "  <thead>\n",
       "    <tr style=\"text-align: right;\">\n",
       "      <th></th>\n",
       "      <th>bedrooms</th>\n",
       "      <th>bathrooms</th>\n",
       "      <th>square_ft</th>\n",
       "      <th>tax_value</th>\n",
       "      <th>year</th>\n",
       "      <th>county</th>\n",
       "    </tr>\n",
       "  </thead>\n",
       "  <tbody>\n",
       "  </tbody>\n",
       "</table>\n",
       "</div>"
      ],
      "text/plain": [
       "Empty DataFrame\n",
       "Columns: [bedrooms, bathrooms, square_ft, tax_value, year, county]\n",
       "Index: []"
      ]
     },
     "execution_count": 7,
     "metadata": {},
     "output_type": "execute_result"
    }
   ],
   "source": [
    "df[df.tax_value == 0]"
   ]
  },
  {
   "cell_type": "code",
   "execution_count": 8,
   "id": "34b0a2c3",
   "metadata": {},
   "outputs": [
    {
     "data": {
      "text/html": [
       "<div>\n",
       "<style scoped>\n",
       "    .dataframe tbody tr th:only-of-type {\n",
       "        vertical-align: middle;\n",
       "    }\n",
       "\n",
       "    .dataframe tbody tr th {\n",
       "        vertical-align: top;\n",
       "    }\n",
       "\n",
       "    .dataframe thead th {\n",
       "        text-align: right;\n",
       "    }\n",
       "</style>\n",
       "<table border=\"1\" class=\"dataframe\">\n",
       "  <thead>\n",
       "    <tr style=\"text-align: right;\">\n",
       "      <th></th>\n",
       "      <th>bedrooms</th>\n",
       "      <th>bathrooms</th>\n",
       "      <th>square_ft</th>\n",
       "      <th>tax_value</th>\n",
       "      <th>year</th>\n",
       "      <th>county</th>\n",
       "    </tr>\n",
       "  </thead>\n",
       "  <tbody>\n",
       "  </tbody>\n",
       "</table>\n",
       "</div>"
      ],
      "text/plain": [
       "Empty DataFrame\n",
       "Columns: [bedrooms, bathrooms, square_ft, tax_value, year, county]\n",
       "Index: []"
      ]
     },
     "execution_count": 8,
     "metadata": {},
     "output_type": "execute_result"
    }
   ],
   "source": [
    "df[df.year == 0]"
   ]
  },
  {
   "cell_type": "code",
   "execution_count": 9,
   "id": "0b45458d",
   "metadata": {},
   "outputs": [],
   "source": [
    "df = df[df.bedrooms != 0]"
   ]
  },
  {
   "cell_type": "code",
   "execution_count": 10,
   "id": "070d7d7d",
   "metadata": {},
   "outputs": [],
   "source": [
    "df = df[df.bathrooms != 0]"
   ]
  },
  {
   "cell_type": "code",
   "execution_count": 11,
   "id": "5a492767",
   "metadata": {},
   "outputs": [
    {
     "data": {
      "text/plain": [
       "3     23339\n",
       "4     15222\n",
       "2      8330\n",
       "5      3970\n",
       "6       633\n",
       "1       602\n",
       "7       106\n",
       "8        24\n",
       "9         8\n",
       "12        3\n",
       "10        2\n",
       "14        1\n",
       "11        1\n",
       "Name: bedrooms, dtype: int64"
      ]
     },
     "execution_count": 11,
     "metadata": {},
     "output_type": "execute_result"
    }
   ],
   "source": [
    "df.bedrooms.value_counts()"
   ]
  },
  {
   "cell_type": "code",
   "execution_count": 12,
   "id": "520b89d1",
   "metadata": {},
   "outputs": [
    {
     "data": {
      "text/plain": [
       "2.0     21879\n",
       "3.0     10660\n",
       "1.0      9534\n",
       "2.5      3930\n",
       "4.0      2227\n",
       "3.5       913\n",
       "1.5       839\n",
       "5.0       802\n",
       "4.5       682\n",
       "6.0       322\n",
       "5.5       224\n",
       "7.0        88\n",
       "8.0        53\n",
       "6.5        47\n",
       "7.5        16\n",
       "9.0        13\n",
       "10.0        5\n",
       "11.0        3\n",
       "8.5         2\n",
       "18.0        1\n",
       "13.0        1\n",
       "Name: bathrooms, dtype: int64"
      ]
     },
     "execution_count": 12,
     "metadata": {},
     "output_type": "execute_result"
    }
   ],
   "source": [
    "df.bathrooms.value_counts()"
   ]
  },
  {
   "cell_type": "code",
   "execution_count": 13,
   "id": "3f2ff1f5",
   "metadata": {},
   "outputs": [
    {
     "data": {
      "text/plain": [
       "(52241, 6)"
      ]
     },
     "execution_count": 13,
     "metadata": {},
     "output_type": "execute_result"
    }
   ],
   "source": [
    "df.shape"
   ]
  },
  {
   "cell_type": "code",
   "execution_count": 14,
   "id": "b9da89e0",
   "metadata": {},
   "outputs": [
    {
     "data": {
      "text/html": [
       "<div>\n",
       "<style scoped>\n",
       "    .dataframe tbody tr th:only-of-type {\n",
       "        vertical-align: middle;\n",
       "    }\n",
       "\n",
       "    .dataframe tbody tr th {\n",
       "        vertical-align: top;\n",
       "    }\n",
       "\n",
       "    .dataframe thead th {\n",
       "        text-align: right;\n",
       "    }\n",
       "</style>\n",
       "<table border=\"1\" class=\"dataframe\">\n",
       "  <thead>\n",
       "    <tr style=\"text-align: right;\">\n",
       "      <th></th>\n",
       "      <th>bedrooms</th>\n",
       "      <th>bathrooms</th>\n",
       "      <th>square_ft</th>\n",
       "      <th>tax_value</th>\n",
       "      <th>year</th>\n",
       "      <th>county</th>\n",
       "      <th>bathrooms_binned</th>\n",
       "    </tr>\n",
       "  </thead>\n",
       "  <tbody>\n",
       "    <tr>\n",
       "      <th>5740</th>\n",
       "      <td>14</td>\n",
       "      <td>18.0</td>\n",
       "      <td>18654</td>\n",
       "      <td>49061236</td>\n",
       "      <td>1927</td>\n",
       "      <td>Los Angeles</td>\n",
       "      <td>7+</td>\n",
       "    </tr>\n",
       "  </tbody>\n",
       "</table>\n",
       "</div>"
      ],
      "text/plain": [
       "      bedrooms  bathrooms  square_ft  tax_value  year       county  \\\n",
       "5740        14       18.0      18654   49061236  1927  Los Angeles   \n",
       "\n",
       "     bathrooms_binned  \n",
       "5740               7+  "
      ]
     },
     "execution_count": 14,
     "metadata": {},
     "output_type": "execute_result"
    }
   ],
   "source": [
    "bin_bound = [0, 3.9, 6.9, 18]\n",
    "\n",
    "bin_labels = ['1-3.5', '4-6.5', '7+']\n",
    "\n",
    "df['bathrooms_binned'] = pd.cut(df['bathrooms'], bins = bin_bound, labels = bin_labels)\n",
    "df[df.bathrooms == 18]"
   ]
  },
  {
   "cell_type": "code",
   "execution_count": 15,
   "id": "9567b9bb",
   "metadata": {},
   "outputs": [
    {
     "data": {
      "text/plain": [
       "1-3.5    47755\n",
       "4-6.5     4304\n",
       "7+         182\n",
       "Name: bathrooms_binned, dtype: int64"
      ]
     },
     "execution_count": 15,
     "metadata": {},
     "output_type": "execute_result"
    }
   ],
   "source": [
    "df.bathrooms_binned.value_counts()"
   ]
  },
  {
   "cell_type": "code",
   "execution_count": 16,
   "id": "945eae8e",
   "metadata": {},
   "outputs": [
    {
     "data": {
      "text/html": [
       "<div>\n",
       "<style scoped>\n",
       "    .dataframe tbody tr th:only-of-type {\n",
       "        vertical-align: middle;\n",
       "    }\n",
       "\n",
       "    .dataframe tbody tr th {\n",
       "        vertical-align: top;\n",
       "    }\n",
       "\n",
       "    .dataframe thead th {\n",
       "        text-align: right;\n",
       "    }\n",
       "</style>\n",
       "<table border=\"1\" class=\"dataframe\">\n",
       "  <thead>\n",
       "    <tr style=\"text-align: right;\">\n",
       "      <th></th>\n",
       "      <th>bedrooms</th>\n",
       "      <th>bathrooms</th>\n",
       "      <th>square_ft</th>\n",
       "      <th>tax_value</th>\n",
       "      <th>year</th>\n",
       "      <th>county</th>\n",
       "      <th>bathrooms_binned</th>\n",
       "      <th>bedrooms_binned</th>\n",
       "    </tr>\n",
       "  </thead>\n",
       "  <tbody>\n",
       "    <tr>\n",
       "      <th>88</th>\n",
       "      <td>1</td>\n",
       "      <td>1.0</td>\n",
       "      <td>455</td>\n",
       "      <td>86152</td>\n",
       "      <td>1922</td>\n",
       "      <td>Orange</td>\n",
       "      <td>1-3.5</td>\n",
       "      <td>1-3</td>\n",
       "    </tr>\n",
       "    <tr>\n",
       "      <th>210</th>\n",
       "      <td>1</td>\n",
       "      <td>3.0</td>\n",
       "      <td>1619</td>\n",
       "      <td>1664376</td>\n",
       "      <td>1949</td>\n",
       "      <td>Los Angeles</td>\n",
       "      <td>1-3.5</td>\n",
       "      <td>1-3</td>\n",
       "    </tr>\n",
       "    <tr>\n",
       "      <th>227</th>\n",
       "      <td>1</td>\n",
       "      <td>1.0</td>\n",
       "      <td>528</td>\n",
       "      <td>342000</td>\n",
       "      <td>1929</td>\n",
       "      <td>Los Angeles</td>\n",
       "      <td>1-3.5</td>\n",
       "      <td>1-3</td>\n",
       "    </tr>\n",
       "    <tr>\n",
       "      <th>287</th>\n",
       "      <td>1</td>\n",
       "      <td>1.0</td>\n",
       "      <td>784</td>\n",
       "      <td>188067</td>\n",
       "      <td>1952</td>\n",
       "      <td>Los Angeles</td>\n",
       "      <td>1-3.5</td>\n",
       "      <td>1-3</td>\n",
       "    </tr>\n",
       "    <tr>\n",
       "      <th>466</th>\n",
       "      <td>1</td>\n",
       "      <td>1.0</td>\n",
       "      <td>520</td>\n",
       "      <td>32640</td>\n",
       "      <td>1922</td>\n",
       "      <td>Los Angeles</td>\n",
       "      <td>1-3.5</td>\n",
       "      <td>1-3</td>\n",
       "    </tr>\n",
       "    <tr>\n",
       "      <th>...</th>\n",
       "      <td>...</td>\n",
       "      <td>...</td>\n",
       "      <td>...</td>\n",
       "      <td>...</td>\n",
       "      <td>...</td>\n",
       "      <td>...</td>\n",
       "      <td>...</td>\n",
       "      <td>...</td>\n",
       "    </tr>\n",
       "    <tr>\n",
       "      <th>51979</th>\n",
       "      <td>1</td>\n",
       "      <td>1.0</td>\n",
       "      <td>512</td>\n",
       "      <td>58300</td>\n",
       "      <td>1923</td>\n",
       "      <td>Los Angeles</td>\n",
       "      <td>1-3.5</td>\n",
       "      <td>1-3</td>\n",
       "    </tr>\n",
       "    <tr>\n",
       "      <th>52056</th>\n",
       "      <td>1</td>\n",
       "      <td>1.0</td>\n",
       "      <td>588</td>\n",
       "      <td>320000</td>\n",
       "      <td>1921</td>\n",
       "      <td>Los Angeles</td>\n",
       "      <td>1-3.5</td>\n",
       "      <td>1-3</td>\n",
       "    </tr>\n",
       "    <tr>\n",
       "      <th>52211</th>\n",
       "      <td>1</td>\n",
       "      <td>2.0</td>\n",
       "      <td>2508</td>\n",
       "      <td>183902</td>\n",
       "      <td>1958</td>\n",
       "      <td>Orange</td>\n",
       "      <td>1-3.5</td>\n",
       "      <td>1-3</td>\n",
       "    </tr>\n",
       "    <tr>\n",
       "      <th>52255</th>\n",
       "      <td>1</td>\n",
       "      <td>1.0</td>\n",
       "      <td>800</td>\n",
       "      <td>913725</td>\n",
       "      <td>1932</td>\n",
       "      <td>Los Angeles</td>\n",
       "      <td>1-3.5</td>\n",
       "      <td>1-3</td>\n",
       "    </tr>\n",
       "    <tr>\n",
       "      <th>52432</th>\n",
       "      <td>1</td>\n",
       "      <td>1.0</td>\n",
       "      <td>624</td>\n",
       "      <td>81706</td>\n",
       "      <td>1944</td>\n",
       "      <td>Los Angeles</td>\n",
       "      <td>1-3.5</td>\n",
       "      <td>1-3</td>\n",
       "    </tr>\n",
       "  </tbody>\n",
       "</table>\n",
       "<p>602 rows × 8 columns</p>\n",
       "</div>"
      ],
      "text/plain": [
       "       bedrooms  bathrooms  square_ft  tax_value  year       county  \\\n",
       "88            1        1.0        455      86152  1922       Orange   \n",
       "210           1        3.0       1619    1664376  1949  Los Angeles   \n",
       "227           1        1.0        528     342000  1929  Los Angeles   \n",
       "287           1        1.0        784     188067  1952  Los Angeles   \n",
       "466           1        1.0        520      32640  1922  Los Angeles   \n",
       "...         ...        ...        ...        ...   ...          ...   \n",
       "51979         1        1.0        512      58300  1923  Los Angeles   \n",
       "52056         1        1.0        588     320000  1921  Los Angeles   \n",
       "52211         1        2.0       2508     183902  1958       Orange   \n",
       "52255         1        1.0        800     913725  1932  Los Angeles   \n",
       "52432         1        1.0        624      81706  1944  Los Angeles   \n",
       "\n",
       "      bathrooms_binned bedrooms_binned  \n",
       "88               1-3.5             1-3  \n",
       "210              1-3.5             1-3  \n",
       "227              1-3.5             1-3  \n",
       "287              1-3.5             1-3  \n",
       "466              1-3.5             1-3  \n",
       "...                ...             ...  \n",
       "51979            1-3.5             1-3  \n",
       "52056            1-3.5             1-3  \n",
       "52211            1-3.5             1-3  \n",
       "52255            1-3.5             1-3  \n",
       "52432            1-3.5             1-3  \n",
       "\n",
       "[602 rows x 8 columns]"
      ]
     },
     "execution_count": 16,
     "metadata": {},
     "output_type": "execute_result"
    }
   ],
   "source": [
    "bin_bound = [0, 3.9, 6.9, 14]\n",
    "\n",
    "bin_labels = ['1-3', '4-6', '7+']\n",
    "\n",
    "df['bedrooms_binned'] = pd.cut(df['bedrooms'], bins = bin_bound, labels = bin_labels)\n",
    "df[df.bedrooms == 1]"
   ]
  },
  {
   "cell_type": "code",
   "execution_count": 17,
   "id": "7d18e9c0",
   "metadata": {},
   "outputs": [],
   "source": [
    "df['total_rooms'] = df.bedrooms + df.bathrooms"
   ]
  },
  {
   "cell_type": "code",
   "execution_count": 18,
   "id": "291e8b41",
   "metadata": {},
   "outputs": [
    {
     "data": {
      "text/html": [
       "<div>\n",
       "<style scoped>\n",
       "    .dataframe tbody tr th:only-of-type {\n",
       "        vertical-align: middle;\n",
       "    }\n",
       "\n",
       "    .dataframe tbody tr th {\n",
       "        vertical-align: top;\n",
       "    }\n",
       "\n",
       "    .dataframe thead th {\n",
       "        text-align: right;\n",
       "    }\n",
       "</style>\n",
       "<table border=\"1\" class=\"dataframe\">\n",
       "  <thead>\n",
       "    <tr style=\"text-align: right;\">\n",
       "      <th></th>\n",
       "      <th>bedrooms</th>\n",
       "      <th>bathrooms</th>\n",
       "      <th>square_ft</th>\n",
       "      <th>tax_value</th>\n",
       "      <th>year</th>\n",
       "      <th>county</th>\n",
       "      <th>bathrooms_binned</th>\n",
       "      <th>bedrooms_binned</th>\n",
       "      <th>total_rooms</th>\n",
       "    </tr>\n",
       "  </thead>\n",
       "  <tbody>\n",
       "    <tr>\n",
       "      <th>0</th>\n",
       "      <td>4</td>\n",
       "      <td>3.5</td>\n",
       "      <td>3100</td>\n",
       "      <td>1023282</td>\n",
       "      <td>1998</td>\n",
       "      <td>Orange</td>\n",
       "      <td>1-3.5</td>\n",
       "      <td>4-6</td>\n",
       "      <td>7.5</td>\n",
       "    </tr>\n",
       "    <tr>\n",
       "      <th>1</th>\n",
       "      <td>2</td>\n",
       "      <td>1.0</td>\n",
       "      <td>1465</td>\n",
       "      <td>464000</td>\n",
       "      <td>1967</td>\n",
       "      <td>Ventura</td>\n",
       "      <td>1-3.5</td>\n",
       "      <td>1-3</td>\n",
       "      <td>3.0</td>\n",
       "    </tr>\n",
       "    <tr>\n",
       "      <th>2</th>\n",
       "      <td>3</td>\n",
       "      <td>2.0</td>\n",
       "      <td>1243</td>\n",
       "      <td>564778</td>\n",
       "      <td>1962</td>\n",
       "      <td>Orange</td>\n",
       "      <td>1-3.5</td>\n",
       "      <td>1-3</td>\n",
       "      <td>5.0</td>\n",
       "    </tr>\n",
       "    <tr>\n",
       "      <th>3</th>\n",
       "      <td>4</td>\n",
       "      <td>3.0</td>\n",
       "      <td>2376</td>\n",
       "      <td>145143</td>\n",
       "      <td>1970</td>\n",
       "      <td>Los Angeles</td>\n",
       "      <td>1-3.5</td>\n",
       "      <td>4-6</td>\n",
       "      <td>7.0</td>\n",
       "    </tr>\n",
       "    <tr>\n",
       "      <th>4</th>\n",
       "      <td>4</td>\n",
       "      <td>3.0</td>\n",
       "      <td>2962</td>\n",
       "      <td>773303</td>\n",
       "      <td>1950</td>\n",
       "      <td>Los Angeles</td>\n",
       "      <td>1-3.5</td>\n",
       "      <td>4-6</td>\n",
       "      <td>7.0</td>\n",
       "    </tr>\n",
       "  </tbody>\n",
       "</table>\n",
       "</div>"
      ],
      "text/plain": [
       "   bedrooms  bathrooms  square_ft  tax_value  year       county  \\\n",
       "0         4        3.5       3100    1023282  1998       Orange   \n",
       "1         2        1.0       1465     464000  1967      Ventura   \n",
       "2         3        2.0       1243     564778  1962       Orange   \n",
       "3         4        3.0       2376     145143  1970  Los Angeles   \n",
       "4         4        3.0       2962     773303  1950  Los Angeles   \n",
       "\n",
       "  bathrooms_binned bedrooms_binned  total_rooms  \n",
       "0            1-3.5             4-6          7.5  \n",
       "1            1-3.5             1-3          3.0  \n",
       "2            1-3.5             1-3          5.0  \n",
       "3            1-3.5             4-6          7.0  \n",
       "4            1-3.5             4-6          7.0  "
      ]
     },
     "execution_count": 18,
     "metadata": {},
     "output_type": "execute_result"
    }
   ],
   "source": [
    "df.head()"
   ]
  },
  {
   "cell_type": "code",
   "execution_count": 19,
   "id": "5b2d8a65",
   "metadata": {},
   "outputs": [
    {
     "data": {
      "text/plain": [
       "1120    127\n",
       "1200    118\n",
       "1080    101\n",
       "936      86\n",
       "1040     86\n",
       "       ... \n",
       "3079      1\n",
       "9843      1\n",
       "7088      1\n",
       "604       1\n",
       "5655      1\n",
       "Name: square_ft, Length: 4710, dtype: int64"
      ]
     },
     "execution_count": 19,
     "metadata": {},
     "output_type": "execute_result"
    }
   ],
   "source": [
    "df.square_ft.value_counts()"
   ]
  },
  {
   "cell_type": "code",
   "execution_count": 20,
   "id": "354c0ce2",
   "metadata": {},
   "outputs": [
    {
     "data": {
      "text/html": [
       "<div>\n",
       "<style scoped>\n",
       "    .dataframe tbody tr th:only-of-type {\n",
       "        vertical-align: middle;\n",
       "    }\n",
       "\n",
       "    .dataframe tbody tr th {\n",
       "        vertical-align: top;\n",
       "    }\n",
       "\n",
       "    .dataframe thead th {\n",
       "        text-align: right;\n",
       "    }\n",
       "</style>\n",
       "<table border=\"1\" class=\"dataframe\">\n",
       "  <thead>\n",
       "    <tr style=\"text-align: right;\">\n",
       "      <th></th>\n",
       "      <th>bedrooms</th>\n",
       "      <th>bathrooms</th>\n",
       "      <th>square_ft</th>\n",
       "      <th>tax_value</th>\n",
       "      <th>year</th>\n",
       "      <th>county</th>\n",
       "      <th>bathrooms_binned</th>\n",
       "      <th>bedrooms_binned</th>\n",
       "      <th>total_rooms</th>\n",
       "      <th>square_ft_binned</th>\n",
       "    </tr>\n",
       "  </thead>\n",
       "  <tbody>\n",
       "    <tr>\n",
       "      <th>88</th>\n",
       "      <td>1</td>\n",
       "      <td>1.0</td>\n",
       "      <td>455</td>\n",
       "      <td>86152</td>\n",
       "      <td>1922</td>\n",
       "      <td>Orange</td>\n",
       "      <td>1-3.5</td>\n",
       "      <td>1-3</td>\n",
       "      <td>2.0</td>\n",
       "      <td>0-1500</td>\n",
       "    </tr>\n",
       "    <tr>\n",
       "      <th>210</th>\n",
       "      <td>1</td>\n",
       "      <td>3.0</td>\n",
       "      <td>1619</td>\n",
       "      <td>1664376</td>\n",
       "      <td>1949</td>\n",
       "      <td>Los Angeles</td>\n",
       "      <td>1-3.5</td>\n",
       "      <td>1-3</td>\n",
       "      <td>4.0</td>\n",
       "      <td>1501-2000</td>\n",
       "    </tr>\n",
       "    <tr>\n",
       "      <th>227</th>\n",
       "      <td>1</td>\n",
       "      <td>1.0</td>\n",
       "      <td>528</td>\n",
       "      <td>342000</td>\n",
       "      <td>1929</td>\n",
       "      <td>Los Angeles</td>\n",
       "      <td>1-3.5</td>\n",
       "      <td>1-3</td>\n",
       "      <td>2.0</td>\n",
       "      <td>0-1500</td>\n",
       "    </tr>\n",
       "    <tr>\n",
       "      <th>287</th>\n",
       "      <td>1</td>\n",
       "      <td>1.0</td>\n",
       "      <td>784</td>\n",
       "      <td>188067</td>\n",
       "      <td>1952</td>\n",
       "      <td>Los Angeles</td>\n",
       "      <td>1-3.5</td>\n",
       "      <td>1-3</td>\n",
       "      <td>2.0</td>\n",
       "      <td>0-1500</td>\n",
       "    </tr>\n",
       "    <tr>\n",
       "      <th>466</th>\n",
       "      <td>1</td>\n",
       "      <td>1.0</td>\n",
       "      <td>520</td>\n",
       "      <td>32640</td>\n",
       "      <td>1922</td>\n",
       "      <td>Los Angeles</td>\n",
       "      <td>1-3.5</td>\n",
       "      <td>1-3</td>\n",
       "      <td>2.0</td>\n",
       "      <td>0-1500</td>\n",
       "    </tr>\n",
       "    <tr>\n",
       "      <th>...</th>\n",
       "      <td>...</td>\n",
       "      <td>...</td>\n",
       "      <td>...</td>\n",
       "      <td>...</td>\n",
       "      <td>...</td>\n",
       "      <td>...</td>\n",
       "      <td>...</td>\n",
       "      <td>...</td>\n",
       "      <td>...</td>\n",
       "      <td>...</td>\n",
       "    </tr>\n",
       "    <tr>\n",
       "      <th>51979</th>\n",
       "      <td>1</td>\n",
       "      <td>1.0</td>\n",
       "      <td>512</td>\n",
       "      <td>58300</td>\n",
       "      <td>1923</td>\n",
       "      <td>Los Angeles</td>\n",
       "      <td>1-3.5</td>\n",
       "      <td>1-3</td>\n",
       "      <td>2.0</td>\n",
       "      <td>0-1500</td>\n",
       "    </tr>\n",
       "    <tr>\n",
       "      <th>52056</th>\n",
       "      <td>1</td>\n",
       "      <td>1.0</td>\n",
       "      <td>588</td>\n",
       "      <td>320000</td>\n",
       "      <td>1921</td>\n",
       "      <td>Los Angeles</td>\n",
       "      <td>1-3.5</td>\n",
       "      <td>1-3</td>\n",
       "      <td>2.0</td>\n",
       "      <td>0-1500</td>\n",
       "    </tr>\n",
       "    <tr>\n",
       "      <th>52211</th>\n",
       "      <td>1</td>\n",
       "      <td>2.0</td>\n",
       "      <td>2508</td>\n",
       "      <td>183902</td>\n",
       "      <td>1958</td>\n",
       "      <td>Orange</td>\n",
       "      <td>1-3.5</td>\n",
       "      <td>1-3</td>\n",
       "      <td>3.0</td>\n",
       "      <td>2001-3000</td>\n",
       "    </tr>\n",
       "    <tr>\n",
       "      <th>52255</th>\n",
       "      <td>1</td>\n",
       "      <td>1.0</td>\n",
       "      <td>800</td>\n",
       "      <td>913725</td>\n",
       "      <td>1932</td>\n",
       "      <td>Los Angeles</td>\n",
       "      <td>1-3.5</td>\n",
       "      <td>1-3</td>\n",
       "      <td>2.0</td>\n",
       "      <td>0-1500</td>\n",
       "    </tr>\n",
       "    <tr>\n",
       "      <th>52432</th>\n",
       "      <td>1</td>\n",
       "      <td>1.0</td>\n",
       "      <td>624</td>\n",
       "      <td>81706</td>\n",
       "      <td>1944</td>\n",
       "      <td>Los Angeles</td>\n",
       "      <td>1-3.5</td>\n",
       "      <td>1-3</td>\n",
       "      <td>2.0</td>\n",
       "      <td>0-1500</td>\n",
       "    </tr>\n",
       "  </tbody>\n",
       "</table>\n",
       "<p>602 rows × 10 columns</p>\n",
       "</div>"
      ],
      "text/plain": [
       "       bedrooms  bathrooms  square_ft  tax_value  year       county  \\\n",
       "88            1        1.0        455      86152  1922       Orange   \n",
       "210           1        3.0       1619    1664376  1949  Los Angeles   \n",
       "227           1        1.0        528     342000  1929  Los Angeles   \n",
       "287           1        1.0        784     188067  1952  Los Angeles   \n",
       "466           1        1.0        520      32640  1922  Los Angeles   \n",
       "...         ...        ...        ...        ...   ...          ...   \n",
       "51979         1        1.0        512      58300  1923  Los Angeles   \n",
       "52056         1        1.0        588     320000  1921  Los Angeles   \n",
       "52211         1        2.0       2508     183902  1958       Orange   \n",
       "52255         1        1.0        800     913725  1932  Los Angeles   \n",
       "52432         1        1.0        624      81706  1944  Los Angeles   \n",
       "\n",
       "      bathrooms_binned bedrooms_binned  total_rooms square_ft_binned  \n",
       "88               1-3.5             1-3          2.0           0-1500  \n",
       "210              1-3.5             1-3          4.0        1501-2000  \n",
       "227              1-3.5             1-3          2.0           0-1500  \n",
       "287              1-3.5             1-3          2.0           0-1500  \n",
       "466              1-3.5             1-3          2.0           0-1500  \n",
       "...                ...             ...          ...              ...  \n",
       "51979            1-3.5             1-3          2.0           0-1500  \n",
       "52056            1-3.5             1-3          2.0           0-1500  \n",
       "52211            1-3.5             1-3          3.0        2001-3000  \n",
       "52255            1-3.5             1-3          2.0           0-1500  \n",
       "52432            1-3.5             1-3          2.0           0-1500  \n",
       "\n",
       "[602 rows x 10 columns]"
      ]
     },
     "execution_count": 20,
     "metadata": {},
     "output_type": "execute_result"
    }
   ],
   "source": [
    "bin_bound = [0, 1500, 2000, 3000, 21929 ]\n",
    "\n",
    "bin_labels = ['0-1500', '1501-2000', '2001-3000', '3000+']\n",
    "\n",
    "df['square_ft_binned'] = pd.cut(df['square_ft'], bins = bin_bound, labels = bin_labels)\n",
    "df[df.bedrooms == 1]"
   ]
  },
  {
   "cell_type": "code",
   "execution_count": 21,
   "id": "56f4fccd",
   "metadata": {},
   "outputs": [
    {
     "data": {
      "text/plain": [
       "21120"
      ]
     },
     "execution_count": 21,
     "metadata": {},
     "output_type": "execute_result"
    }
   ],
   "source": [
    "len(df[df.square_ft < 1500])"
   ]
  },
  {
   "cell_type": "code",
   "execution_count": 22,
   "id": "8b7c116f",
   "metadata": {},
   "outputs": [
    {
     "data": {
      "text/plain": [
       "12956"
      ]
     },
     "execution_count": 22,
     "metadata": {},
     "output_type": "execute_result"
    }
   ],
   "source": [
    "len(df[(df['square_ft'] > 1500) & (df['square_ft'] < 2000)])\n"
   ]
  },
  {
   "cell_type": "code",
   "execution_count": 23,
   "id": "712e7ce1",
   "metadata": {},
   "outputs": [
    {
     "data": {
      "text/plain": [
       "12081"
      ]
     },
     "execution_count": 23,
     "metadata": {},
     "output_type": "execute_result"
    }
   ],
   "source": [
    "len(df[(df['square_ft'] > 2000) & (df['square_ft'] < 3000)])\n"
   ]
  },
  {
   "cell_type": "code",
   "execution_count": 24,
   "id": "dade0553",
   "metadata": {
    "scrolled": true
   },
   "outputs": [
    {
     "data": {
      "text/plain": [
       "5996"
      ]
     },
     "execution_count": 24,
     "metadata": {},
     "output_type": "execute_result"
    }
   ],
   "source": [
    "len(df[df.square_ft > 3000])"
   ]
  },
  {
   "cell_type": "code",
   "execution_count": 25,
   "id": "76bce325",
   "metadata": {
    "scrolled": true
   },
   "outputs": [
    {
     "data": {
      "text/plain": [
       "21929"
      ]
     },
     "execution_count": 25,
     "metadata": {},
     "output_type": "execute_result"
    }
   ],
   "source": [
    "df.square_ft.max()"
   ]
  },
  {
   "cell_type": "code",
   "execution_count": 26,
   "id": "bfccd5e6",
   "metadata": {
    "scrolled": true
   },
   "outputs": [
    {
     "data": {
      "text/plain": [
       "18330"
      ]
     },
     "execution_count": 26,
     "metadata": {},
     "output_type": "execute_result"
    }
   ],
   "source": [
    "len(df[df.year>1970])"
   ]
  },
  {
   "cell_type": "code",
   "execution_count": 27,
   "id": "700296d4",
   "metadata": {},
   "outputs": [
    {
     "data": {
      "text/plain": [
       "1878"
      ]
     },
     "execution_count": 27,
     "metadata": {},
     "output_type": "execute_result"
    }
   ],
   "source": [
    "df.year.min()"
   ]
  },
  {
   "cell_type": "code",
   "execution_count": 28,
   "id": "c911715e",
   "metadata": {},
   "outputs": [
    {
     "data": {
      "text/html": [
       "<div>\n",
       "<style scoped>\n",
       "    .dataframe tbody tr th:only-of-type {\n",
       "        vertical-align: middle;\n",
       "    }\n",
       "\n",
       "    .dataframe tbody tr th {\n",
       "        vertical-align: top;\n",
       "    }\n",
       "\n",
       "    .dataframe thead th {\n",
       "        text-align: right;\n",
       "    }\n",
       "</style>\n",
       "<table border=\"1\" class=\"dataframe\">\n",
       "  <thead>\n",
       "    <tr style=\"text-align: right;\">\n",
       "      <th></th>\n",
       "      <th>bedrooms</th>\n",
       "      <th>bathrooms</th>\n",
       "      <th>square_ft</th>\n",
       "      <th>tax_value</th>\n",
       "      <th>year</th>\n",
       "      <th>county</th>\n",
       "      <th>bathrooms_binned</th>\n",
       "      <th>bedrooms_binned</th>\n",
       "      <th>total_rooms</th>\n",
       "      <th>square_ft_binned</th>\n",
       "      <th>decade</th>\n",
       "    </tr>\n",
       "  </thead>\n",
       "  <tbody>\n",
       "    <tr>\n",
       "      <th>88</th>\n",
       "      <td>1</td>\n",
       "      <td>1.0</td>\n",
       "      <td>455</td>\n",
       "      <td>86152</td>\n",
       "      <td>1922</td>\n",
       "      <td>Orange</td>\n",
       "      <td>1-3.5</td>\n",
       "      <td>1-3</td>\n",
       "      <td>2.0</td>\n",
       "      <td>0-1500</td>\n",
       "      <td>&lt;1970</td>\n",
       "    </tr>\n",
       "    <tr>\n",
       "      <th>210</th>\n",
       "      <td>1</td>\n",
       "      <td>3.0</td>\n",
       "      <td>1619</td>\n",
       "      <td>1664376</td>\n",
       "      <td>1949</td>\n",
       "      <td>Los Angeles</td>\n",
       "      <td>1-3.5</td>\n",
       "      <td>1-3</td>\n",
       "      <td>4.0</td>\n",
       "      <td>1501-2000</td>\n",
       "      <td>&lt;1970</td>\n",
       "    </tr>\n",
       "    <tr>\n",
       "      <th>227</th>\n",
       "      <td>1</td>\n",
       "      <td>1.0</td>\n",
       "      <td>528</td>\n",
       "      <td>342000</td>\n",
       "      <td>1929</td>\n",
       "      <td>Los Angeles</td>\n",
       "      <td>1-3.5</td>\n",
       "      <td>1-3</td>\n",
       "      <td>2.0</td>\n",
       "      <td>0-1500</td>\n",
       "      <td>&lt;1970</td>\n",
       "    </tr>\n",
       "    <tr>\n",
       "      <th>287</th>\n",
       "      <td>1</td>\n",
       "      <td>1.0</td>\n",
       "      <td>784</td>\n",
       "      <td>188067</td>\n",
       "      <td>1952</td>\n",
       "      <td>Los Angeles</td>\n",
       "      <td>1-3.5</td>\n",
       "      <td>1-3</td>\n",
       "      <td>2.0</td>\n",
       "      <td>0-1500</td>\n",
       "      <td>&lt;1970</td>\n",
       "    </tr>\n",
       "    <tr>\n",
       "      <th>466</th>\n",
       "      <td>1</td>\n",
       "      <td>1.0</td>\n",
       "      <td>520</td>\n",
       "      <td>32640</td>\n",
       "      <td>1922</td>\n",
       "      <td>Los Angeles</td>\n",
       "      <td>1-3.5</td>\n",
       "      <td>1-3</td>\n",
       "      <td>2.0</td>\n",
       "      <td>0-1500</td>\n",
       "      <td>&lt;1970</td>\n",
       "    </tr>\n",
       "    <tr>\n",
       "      <th>...</th>\n",
       "      <td>...</td>\n",
       "      <td>...</td>\n",
       "      <td>...</td>\n",
       "      <td>...</td>\n",
       "      <td>...</td>\n",
       "      <td>...</td>\n",
       "      <td>...</td>\n",
       "      <td>...</td>\n",
       "      <td>...</td>\n",
       "      <td>...</td>\n",
       "      <td>...</td>\n",
       "    </tr>\n",
       "    <tr>\n",
       "      <th>51979</th>\n",
       "      <td>1</td>\n",
       "      <td>1.0</td>\n",
       "      <td>512</td>\n",
       "      <td>58300</td>\n",
       "      <td>1923</td>\n",
       "      <td>Los Angeles</td>\n",
       "      <td>1-3.5</td>\n",
       "      <td>1-3</td>\n",
       "      <td>2.0</td>\n",
       "      <td>0-1500</td>\n",
       "      <td>&lt;1970</td>\n",
       "    </tr>\n",
       "    <tr>\n",
       "      <th>52056</th>\n",
       "      <td>1</td>\n",
       "      <td>1.0</td>\n",
       "      <td>588</td>\n",
       "      <td>320000</td>\n",
       "      <td>1921</td>\n",
       "      <td>Los Angeles</td>\n",
       "      <td>1-3.5</td>\n",
       "      <td>1-3</td>\n",
       "      <td>2.0</td>\n",
       "      <td>0-1500</td>\n",
       "      <td>&lt;1970</td>\n",
       "    </tr>\n",
       "    <tr>\n",
       "      <th>52211</th>\n",
       "      <td>1</td>\n",
       "      <td>2.0</td>\n",
       "      <td>2508</td>\n",
       "      <td>183902</td>\n",
       "      <td>1958</td>\n",
       "      <td>Orange</td>\n",
       "      <td>1-3.5</td>\n",
       "      <td>1-3</td>\n",
       "      <td>3.0</td>\n",
       "      <td>2001-3000</td>\n",
       "      <td>&lt;1970</td>\n",
       "    </tr>\n",
       "    <tr>\n",
       "      <th>52255</th>\n",
       "      <td>1</td>\n",
       "      <td>1.0</td>\n",
       "      <td>800</td>\n",
       "      <td>913725</td>\n",
       "      <td>1932</td>\n",
       "      <td>Los Angeles</td>\n",
       "      <td>1-3.5</td>\n",
       "      <td>1-3</td>\n",
       "      <td>2.0</td>\n",
       "      <td>0-1500</td>\n",
       "      <td>&lt;1970</td>\n",
       "    </tr>\n",
       "    <tr>\n",
       "      <th>52432</th>\n",
       "      <td>1</td>\n",
       "      <td>1.0</td>\n",
       "      <td>624</td>\n",
       "      <td>81706</td>\n",
       "      <td>1944</td>\n",
       "      <td>Los Angeles</td>\n",
       "      <td>1-3.5</td>\n",
       "      <td>1-3</td>\n",
       "      <td>2.0</td>\n",
       "      <td>0-1500</td>\n",
       "      <td>&lt;1970</td>\n",
       "    </tr>\n",
       "  </tbody>\n",
       "</table>\n",
       "<p>602 rows × 11 columns</p>\n",
       "</div>"
      ],
      "text/plain": [
       "       bedrooms  bathrooms  square_ft  tax_value  year       county  \\\n",
       "88            1        1.0        455      86152  1922       Orange   \n",
       "210           1        3.0       1619    1664376  1949  Los Angeles   \n",
       "227           1        1.0        528     342000  1929  Los Angeles   \n",
       "287           1        1.0        784     188067  1952  Los Angeles   \n",
       "466           1        1.0        520      32640  1922  Los Angeles   \n",
       "...         ...        ...        ...        ...   ...          ...   \n",
       "51979         1        1.0        512      58300  1923  Los Angeles   \n",
       "52056         1        1.0        588     320000  1921  Los Angeles   \n",
       "52211         1        2.0       2508     183902  1958       Orange   \n",
       "52255         1        1.0        800     913725  1932  Los Angeles   \n",
       "52432         1        1.0        624      81706  1944  Los Angeles   \n",
       "\n",
       "      bathrooms_binned bedrooms_binned  total_rooms square_ft_binned decade  \n",
       "88               1-3.5             1-3          2.0           0-1500  <1970  \n",
       "210              1-3.5             1-3          4.0        1501-2000  <1970  \n",
       "227              1-3.5             1-3          2.0           0-1500  <1970  \n",
       "287              1-3.5             1-3          2.0           0-1500  <1970  \n",
       "466              1-3.5             1-3          2.0           0-1500  <1970  \n",
       "...                ...             ...          ...              ...    ...  \n",
       "51979            1-3.5             1-3          2.0           0-1500  <1970  \n",
       "52056            1-3.5             1-3          2.0           0-1500  <1970  \n",
       "52211            1-3.5             1-3          3.0        2001-3000  <1970  \n",
       "52255            1-3.5             1-3          2.0           0-1500  <1970  \n",
       "52432            1-3.5             1-3          2.0           0-1500  <1970  \n",
       "\n",
       "[602 rows x 11 columns]"
      ]
     },
     "execution_count": 28,
     "metadata": {},
     "output_type": "execute_result"
    }
   ],
   "source": [
    "bin_bound = [0, 1979, 1989, 1999, 2009, 2020 ]\n",
    "\n",
    "bin_labels = ['<1970', '1980', '1990', '2000', '2010']\n",
    "\n",
    "df['decade'] = pd.cut(df['year'], bins = bin_bound, labels = bin_labels)\n",
    "df[df.bedrooms == 1]"
   ]
  },
  {
   "cell_type": "code",
   "execution_count": 29,
   "id": "dc9a103b",
   "metadata": {},
   "outputs": [
    {
     "data": {
      "text/plain": [
       "2016"
      ]
     },
     "execution_count": 29,
     "metadata": {},
     "output_type": "execute_result"
    }
   ],
   "source": [
    "df.year.max()"
   ]
  },
  {
   "cell_type": "code",
   "execution_count": 30,
   "id": "cb8069a3",
   "metadata": {},
   "outputs": [
    {
     "data": {
      "image/png": "[encoded data removed]",
      "text/plain": [
       "<Figure size 640x480 with 1 Axes>"
      ]
     },
     "metadata": {},
     "output_type": "display_data"
    }
   ],
   "source": [
    "sns.barplot(data = df.sample(3_000), x='bedrooms_binned', y='tax_value')\n",
    "plt.show()"
   ]
  },
  {
   "cell_type": "code",
   "execution_count": 31,
   "id": "0ab88a51",
   "metadata": {},
   "outputs": [
    {
     "data": {
      "image/png": "[encoded data removed]",
      "text/plain": [
       "<Figure size 640x480 with 1 Axes>"
      ]
     },
     "metadata": {},
     "output_type": "display_data"
    }
   ],
   "source": [
    "sns.barplot(data = df.sample(3_000), x='bathrooms_binned', y='tax_value')\n",
    "plt.show()"
   ]
  },
  {
   "cell_type": "code",
   "execution_count": 32,
   "id": "4b25ae73",
   "metadata": {},
   "outputs": [
    {
     "data": {
      "image/png": "[encoded data removed]",
      "text/plain": [
       "<Figure size 640x480 with 1 Axes>"
      ]
     },
     "metadata": {},
     "output_type": "display_data"
    }
   ],
   "source": [
    "sns.barplot(data = df.sample(3_000), x='total_rooms', y='tax_value')\n",
    "plt.show()"
   ]
  },
  {
   "cell_type": "code",
   "execution_count": 33,
   "id": "29b4586e",
   "metadata": {},
   "outputs": [
    {
     "data": {
      "image/png": "[encoded data removed]",
      "text/plain": [
       "<Figure size 640x480 with 1 Axes>"
      ]
     },
     "metadata": {},
     "output_type": "display_data"
    }
   ],
   "source": [
    "sns.barplot(data = df.sample(3_000), x='square_ft_binned', y='tax_value')\n",
    "plt.show()"
   ]
  },
  {
   "cell_type": "code",
   "execution_count": 34,
   "id": "c004f32e",
   "metadata": {},
   "outputs": [
    {
     "data": {
      "image/png": "[encoded data removed]",
      "text/plain": [
       "<Figure size 640x480 with 1 Axes>"
      ]
     },
     "metadata": {},
     "output_type": "display_data"
    }
   ],
   "source": [
    "sns.barplot(data = df.sample(3_000), x='decade', y='tax_value')\n",
    "plt.show()"
   ]
  },
  {
   "cell_type": "code",
   "execution_count": 35,
   "id": "d7720f48",
   "metadata": {},
   "outputs": [
    {
     "data": {
      "text/plain": [
       "<Figure size 640x480 with 0 Axes>"
      ]
     },
     "metadata": {},
     "output_type": "display_data"
    },
    {
     "data": {
      "image/png": "[encoded data removed]",
      "text/plain": [
       "<Figure size 500x500 with 1 Axes>"
      ]
     },
     "metadata": {},
     "output_type": "display_data"
    }
   ],
   "source": [
    "plt.figure()\n",
    "sns.lmplot(x=\"square_ft\", y=\"tax_value\", data= df.sample(1_000), line_kws={'color': 'red'}, x_bins= 5)\n",
    "plt.show()"
   ]
  },
  {
   "cell_type": "code",
   "execution_count": 36,
   "id": "98f48586",
   "metadata": {},
   "outputs": [
    {
     "data": {
      "text/plain": [
       "<Axes: xlabel='decade', ylabel='tax_value'>"
      ]
     },
     "execution_count": 36,
     "metadata": {},
     "output_type": "execute_result"
    },
    {
     "data": {
      "image/png": "[encoded data removed]",
      "text/plain": [
       "<Figure size 640x480 with 1 Axes>"
      ]
     },
     "metadata": {},
     "output_type": "display_data"
    }
   ],
   "source": [
    "sns.scatterplot(x = 'decade', y = 'tax_value', data = df.sample(1_000))"
   ]
  },
  {
   "cell_type": "code",
   "execution_count": 37,
   "id": "48da670e",
   "metadata": {},
   "outputs": [
    {
     "data": {
      "text/html": [
       "<div>\n",
       "<style scoped>\n",
       "    .dataframe tbody tr th:only-of-type {\n",
       "        vertical-align: middle;\n",
       "    }\n",
       "\n",
       "    .dataframe tbody tr th {\n",
       "        vertical-align: top;\n",
       "    }\n",
       "\n",
       "    .dataframe thead th {\n",
       "        text-align: right;\n",
       "    }\n",
       "</style>\n",
       "<table border=\"1\" class=\"dataframe\">\n",
       "  <thead>\n",
       "    <tr style=\"text-align: right;\">\n",
       "      <th></th>\n",
       "      <th>bedrooms</th>\n",
       "      <th>bathrooms</th>\n",
       "      <th>square_ft</th>\n",
       "      <th>tax_value</th>\n",
       "      <th>year</th>\n",
       "      <th>county</th>\n",
       "      <th>bathrooms_binned</th>\n",
       "      <th>bedrooms_binned</th>\n",
       "      <th>total_rooms</th>\n",
       "      <th>square_ft_binned</th>\n",
       "      <th>decade</th>\n",
       "    </tr>\n",
       "  </thead>\n",
       "  <tbody>\n",
       "    <tr>\n",
       "      <th>0</th>\n",
       "      <td>4</td>\n",
       "      <td>3.5</td>\n",
       "      <td>3100</td>\n",
       "      <td>1023282</td>\n",
       "      <td>1998</td>\n",
       "      <td>Orange</td>\n",
       "      <td>1-3.5</td>\n",
       "      <td>4-6</td>\n",
       "      <td>7.5</td>\n",
       "      <td>3000+</td>\n",
       "      <td>1990</td>\n",
       "    </tr>\n",
       "    <tr>\n",
       "      <th>1</th>\n",
       "      <td>2</td>\n",
       "      <td>1.0</td>\n",
       "      <td>1465</td>\n",
       "      <td>464000</td>\n",
       "      <td>1967</td>\n",
       "      <td>Ventura</td>\n",
       "      <td>1-3.5</td>\n",
       "      <td>1-3</td>\n",
       "      <td>3.0</td>\n",
       "      <td>0-1500</td>\n",
       "      <td>&lt;1970</td>\n",
       "    </tr>\n",
       "    <tr>\n",
       "      <th>2</th>\n",
       "      <td>3</td>\n",
       "      <td>2.0</td>\n",
       "      <td>1243</td>\n",
       "      <td>564778</td>\n",
       "      <td>1962</td>\n",
       "      <td>Orange</td>\n",
       "      <td>1-3.5</td>\n",
       "      <td>1-3</td>\n",
       "      <td>5.0</td>\n",
       "      <td>0-1500</td>\n",
       "      <td>&lt;1970</td>\n",
       "    </tr>\n",
       "    <tr>\n",
       "      <th>3</th>\n",
       "      <td>4</td>\n",
       "      <td>3.0</td>\n",
       "      <td>2376</td>\n",
       "      <td>145143</td>\n",
       "      <td>1970</td>\n",
       "      <td>Los Angeles</td>\n",
       "      <td>1-3.5</td>\n",
       "      <td>4-6</td>\n",
       "      <td>7.0</td>\n",
       "      <td>2001-3000</td>\n",
       "      <td>&lt;1970</td>\n",
       "    </tr>\n",
       "    <tr>\n",
       "      <th>4</th>\n",
       "      <td>4</td>\n",
       "      <td>3.0</td>\n",
       "      <td>2962</td>\n",
       "      <td>773303</td>\n",
       "      <td>1950</td>\n",
       "      <td>Los Angeles</td>\n",
       "      <td>1-3.5</td>\n",
       "      <td>4-6</td>\n",
       "      <td>7.0</td>\n",
       "      <td>2001-3000</td>\n",
       "      <td>&lt;1970</td>\n",
       "    </tr>\n",
       "  </tbody>\n",
       "</table>\n",
       "</div>"
      ],
      "text/plain": [
       "   bedrooms  bathrooms  square_ft  tax_value  year       county  \\\n",
       "0         4        3.5       3100    1023282  1998       Orange   \n",
       "1         2        1.0       1465     464000  1967      Ventura   \n",
       "2         3        2.0       1243     564778  1962       Orange   \n",
       "3         4        3.0       2376     145143  1970  Los Angeles   \n",
       "4         4        3.0       2962     773303  1950  Los Angeles   \n",
       "\n",
       "  bathrooms_binned bedrooms_binned  total_rooms square_ft_binned decade  \n",
       "0            1-3.5             4-6          7.5            3000+   1990  \n",
       "1            1-3.5             1-3          3.0           0-1500  <1970  \n",
       "2            1-3.5             1-3          5.0           0-1500  <1970  \n",
       "3            1-3.5             4-6          7.0        2001-3000  <1970  \n",
       "4            1-3.5             4-6          7.0        2001-3000  <1970  "
      ]
     },
     "execution_count": 37,
     "metadata": {},
     "output_type": "execute_result"
    }
   ],
   "source": [
    "df.head()"
   ]
  },
  {
   "cell_type": "code",
   "execution_count": 47,
   "id": "a228a7fb",
   "metadata": {},
   "outputs": [],
   "source": [
    "train, val, test = p.split_data(df)"
   ]
  },
  {
   "cell_type": "code",
   "execution_count": 48,
   "id": "b2cabdb0",
   "metadata": {},
   "outputs": [
    {
     "data": {
      "text/html": [
       "<div>\n",
       "<style scoped>\n",
       "    .dataframe tbody tr th:only-of-type {\n",
       "        vertical-align: middle;\n",
       "    }\n",
       "\n",
       "    .dataframe tbody tr th {\n",
       "        vertical-align: top;\n",
       "    }\n",
       "\n",
       "    .dataframe thead th {\n",
       "        text-align: right;\n",
       "    }\n",
       "</style>\n",
       "<table border=\"1\" class=\"dataframe\">\n",
       "  <thead>\n",
       "    <tr style=\"text-align: right;\">\n",
       "      <th></th>\n",
       "      <th>bedrooms</th>\n",
       "      <th>bathrooms</th>\n",
       "      <th>square_ft</th>\n",
       "      <th>tax_value</th>\n",
       "      <th>year</th>\n",
       "      <th>county</th>\n",
       "      <th>bathrooms_binned</th>\n",
       "      <th>bedrooms_binned</th>\n",
       "      <th>total_rooms</th>\n",
       "      <th>square_ft_binned</th>\n",
       "      <th>decade</th>\n",
       "      <th>total_rooms_bin</th>\n",
       "    </tr>\n",
       "  </thead>\n",
       "  <tbody>\n",
       "    <tr>\n",
       "      <th>44648</th>\n",
       "      <td>4</td>\n",
       "      <td>2.0</td>\n",
       "      <td>1430</td>\n",
       "      <td>316414</td>\n",
       "      <td>1946</td>\n",
       "      <td>Los Angeles</td>\n",
       "      <td>1-3.5</td>\n",
       "      <td>4-6</td>\n",
       "      <td>6.0</td>\n",
       "      <td>0-1500</td>\n",
       "      <td>&lt;1970</td>\n",
       "      <td>6</td>\n",
       "    </tr>\n",
       "    <tr>\n",
       "      <th>33031</th>\n",
       "      <td>2</td>\n",
       "      <td>1.0</td>\n",
       "      <td>1547</td>\n",
       "      <td>66845</td>\n",
       "      <td>1938</td>\n",
       "      <td>Los Angeles</td>\n",
       "      <td>1-3.5</td>\n",
       "      <td>1-3</td>\n",
       "      <td>3.0</td>\n",
       "      <td>1501-2000</td>\n",
       "      <td>&lt;1970</td>\n",
       "      <td>3</td>\n",
       "    </tr>\n",
       "    <tr>\n",
       "      <th>810</th>\n",
       "      <td>3</td>\n",
       "      <td>2.0</td>\n",
       "      <td>2051</td>\n",
       "      <td>474197</td>\n",
       "      <td>1985</td>\n",
       "      <td>Ventura</td>\n",
       "      <td>1-3.5</td>\n",
       "      <td>1-3</td>\n",
       "      <td>5.0</td>\n",
       "      <td>2001-3000</td>\n",
       "      <td>1980</td>\n",
       "      <td>5</td>\n",
       "    </tr>\n",
       "    <tr>\n",
       "      <th>11555</th>\n",
       "      <td>3</td>\n",
       "      <td>4.0</td>\n",
       "      <td>2603</td>\n",
       "      <td>256558</td>\n",
       "      <td>1948</td>\n",
       "      <td>Los Angeles</td>\n",
       "      <td>4-6.5</td>\n",
       "      <td>1-3</td>\n",
       "      <td>7.0</td>\n",
       "      <td>2001-3000</td>\n",
       "      <td>&lt;1970</td>\n",
       "      <td>32</td>\n",
       "    </tr>\n",
       "    <tr>\n",
       "      <th>33070</th>\n",
       "      <td>3</td>\n",
       "      <td>3.0</td>\n",
       "      <td>2953</td>\n",
       "      <td>1155958</td>\n",
       "      <td>2000</td>\n",
       "      <td>Orange</td>\n",
       "      <td>1-3.5</td>\n",
       "      <td>1-3</td>\n",
       "      <td>6.0</td>\n",
       "      <td>2001-3000</td>\n",
       "      <td>2000</td>\n",
       "      <td>6</td>\n",
       "    </tr>\n",
       "  </tbody>\n",
       "</table>\n",
       "</div>"
      ],
      "text/plain": [
       "       bedrooms  bathrooms  square_ft  tax_value  year       county  \\\n",
       "44648         4        2.0       1430     316414  1946  Los Angeles   \n",
       "33031         2        1.0       1547      66845  1938  Los Angeles   \n",
       "810           3        2.0       2051     474197  1985      Ventura   \n",
       "11555         3        4.0       2603     256558  1948  Los Angeles   \n",
       "33070         3        3.0       2953    1155958  2000       Orange   \n",
       "\n",
       "      bathrooms_binned bedrooms_binned  total_rooms square_ft_binned decade  \\\n",
       "44648            1-3.5             4-6          6.0           0-1500  <1970   \n",
       "33031            1-3.5             1-3          3.0        1501-2000  <1970   \n",
       "810              1-3.5             1-3          5.0        2001-3000   1980   \n",
       "11555            4-6.5             1-3          7.0        2001-3000  <1970   \n",
       "33070            1-3.5             1-3          6.0        2001-3000   2000   \n",
       "\n",
       "      total_rooms_bin  \n",
       "44648               6  \n",
       "33031               3  \n",
       "810                 5  \n",
       "11555              32  \n",
       "33070               6  "
      ]
     },
     "execution_count": 48,
     "metadata": {},
     "output_type": "execute_result"
    }
   ],
   "source": [
    "train.head()"
   ]
  },
  {
   "cell_type": "code",
   "execution_count": 49,
   "id": "a5d53878",
   "metadata": {},
   "outputs": [
    {
     "data": {
      "text/plain": [
       "<Axes: xlabel='bedrooms', ylabel='tax_value'>"
      ]
     },
     "execution_count": 49,
     "metadata": {},
     "output_type": "execute_result"
    },
    {
     "data": {
      "image/png": "[encoded data removed]",
      "text/plain": [
       "<Figure size 640x480 with 1 Axes>"
      ]
     },
     "metadata": {},
     "output_type": "display_data"
    }
   ],
   "source": [
    "sns.scatterplot(x = 'bedrooms', y = 'tax_value', data = train.sample(2_000))"
   ]
  },
  {
   "cell_type": "code",
   "execution_count": 50,
   "id": "cc22ec6c",
   "metadata": {},
   "outputs": [
    {
     "data": {
      "text/plain": [
       "14"
      ]
     },
     "execution_count": 50,
     "metadata": {},
     "output_type": "execute_result"
    }
   ],
   "source": [
    "train.bedrooms.max()"
   ]
  },
  {
   "cell_type": "code",
   "execution_count": 51,
   "id": "cfd29ff1",
   "metadata": {},
   "outputs": [
    {
     "data": {
      "text/plain": [
       "18.0"
      ]
     },
     "execution_count": 51,
     "metadata": {},
     "output_type": "execute_result"
    }
   ],
   "source": [
    "train.bathrooms.max()"
   ]
  },
  {
   "cell_type": "code",
   "execution_count": 52,
   "id": "2b49a703",
   "metadata": {},
   "outputs": [
    {
     "data": {
      "text/plain": [
       "<Figure size 640x480 with 0 Axes>"
      ]
     },
     "metadata": {},
     "output_type": "display_data"
    },
    {
     "data": {
      "image/png": "[encoded data removed]",
      "text/plain": [
       "<Figure size 500x500 with 1 Axes>"
      ]
     },
     "metadata": {},
     "output_type": "display_data"
    }
   ],
   "source": [
    "plt.figure()\n",
    "sns.lmplot(x=\"square_ft\", y=\"tax_value\", data= train.sample(5_000), line_kws={'color': 'red'})\n",
    "plt.show()"
   ]
  },
  {
   "cell_type": "code",
   "execution_count": 53,
   "id": "acf4fdc9",
   "metadata": {},
   "outputs": [
    {
     "data": {
      "image/png": "[encoded data removed]",
      "text/plain": [
       "<Figure size 640x480 with 1 Axes>"
      ]
     },
     "metadata": {},
     "output_type": "display_data"
    }
   ],
   "source": [
    "sns.regplot(x='square_ft', y='tax_value', data=train.sample(5_000))\n",
    "\n",
    "plt.show()"
   ]
  },
  {
   "cell_type": "code",
   "execution_count": null,
   "id": "c362fa47",
   "metadata": {},
   "outputs": [],
   "source": [
    "sns.regplot(x='year', y='tax_value', data=train.sample(5_000))\n",
    "\n",
    "plt.show()"
   ]
  },
  {
   "cell_type": "code",
   "execution_count": null,
   "id": "997c216c",
   "metadata": {},
   "outputs": [],
   "source": [
    "plt.figure()\n",
    "sns.lmplot(x=\"year\", y=\"tax_value\", data= train.sample(5_000), line_kws={'color': 'red'})\n",
    "plt.show()"
   ]
  },
  {
   "cell_type": "code",
   "execution_count": 39,
   "id": "28559d34",
   "metadata": {},
   "outputs": [
    {
     "data": {
      "text/html": [
       "<div>\n",
       "<style scoped>\n",
       "    .dataframe tbody tr th:only-of-type {\n",
       "        vertical-align: middle;\n",
       "    }\n",
       "\n",
       "    .dataframe tbody tr th {\n",
       "        vertical-align: top;\n",
       "    }\n",
       "\n",
       "    .dataframe thead th {\n",
       "        text-align: right;\n",
       "    }\n",
       "</style>\n",
       "<table border=\"1\" class=\"dataframe\">\n",
       "  <thead>\n",
       "    <tr style=\"text-align: right;\">\n",
       "      <th></th>\n",
       "      <th>bedrooms</th>\n",
       "      <th>bathrooms</th>\n",
       "      <th>square_ft</th>\n",
       "      <th>tax_value</th>\n",
       "      <th>year</th>\n",
       "      <th>county</th>\n",
       "      <th>bathrooms_binned</th>\n",
       "      <th>bedrooms_binned</th>\n",
       "      <th>total_rooms</th>\n",
       "      <th>square_ft_binned</th>\n",
       "      <th>decade</th>\n",
       "    </tr>\n",
       "  </thead>\n",
       "  <tbody>\n",
       "    <tr>\n",
       "      <th>0</th>\n",
       "      <td>4</td>\n",
       "      <td>3.5</td>\n",
       "      <td>3100</td>\n",
       "      <td>1023282</td>\n",
       "      <td>1998</td>\n",
       "      <td>Orange</td>\n",
       "      <td>1-3.5</td>\n",
       "      <td>4-6</td>\n",
       "      <td>7.5</td>\n",
       "      <td>3000+</td>\n",
       "      <td>1990</td>\n",
       "    </tr>\n",
       "    <tr>\n",
       "      <th>1</th>\n",
       "      <td>2</td>\n",
       "      <td>1.0</td>\n",
       "      <td>1465</td>\n",
       "      <td>464000</td>\n",
       "      <td>1967</td>\n",
       "      <td>Ventura</td>\n",
       "      <td>1-3.5</td>\n",
       "      <td>1-3</td>\n",
       "      <td>3.0</td>\n",
       "      <td>0-1500</td>\n",
       "      <td>&lt;1970</td>\n",
       "    </tr>\n",
       "    <tr>\n",
       "      <th>2</th>\n",
       "      <td>3</td>\n",
       "      <td>2.0</td>\n",
       "      <td>1243</td>\n",
       "      <td>564778</td>\n",
       "      <td>1962</td>\n",
       "      <td>Orange</td>\n",
       "      <td>1-3.5</td>\n",
       "      <td>1-3</td>\n",
       "      <td>5.0</td>\n",
       "      <td>0-1500</td>\n",
       "      <td>&lt;1970</td>\n",
       "    </tr>\n",
       "    <tr>\n",
       "      <th>3</th>\n",
       "      <td>4</td>\n",
       "      <td>3.0</td>\n",
       "      <td>2376</td>\n",
       "      <td>145143</td>\n",
       "      <td>1970</td>\n",
       "      <td>Los Angeles</td>\n",
       "      <td>1-3.5</td>\n",
       "      <td>4-6</td>\n",
       "      <td>7.0</td>\n",
       "      <td>2001-3000</td>\n",
       "      <td>&lt;1970</td>\n",
       "    </tr>\n",
       "    <tr>\n",
       "      <th>4</th>\n",
       "      <td>4</td>\n",
       "      <td>3.0</td>\n",
       "      <td>2962</td>\n",
       "      <td>773303</td>\n",
       "      <td>1950</td>\n",
       "      <td>Los Angeles</td>\n",
       "      <td>1-3.5</td>\n",
       "      <td>4-6</td>\n",
       "      <td>7.0</td>\n",
       "      <td>2001-3000</td>\n",
       "      <td>&lt;1970</td>\n",
       "    </tr>\n",
       "  </tbody>\n",
       "</table>\n",
       "</div>"
      ],
      "text/plain": [
       "   bedrooms  bathrooms  square_ft  tax_value  year       county  \\\n",
       "0         4        3.5       3100    1023282  1998       Orange   \n",
       "1         2        1.0       1465     464000  1967      Ventura   \n",
       "2         3        2.0       1243     564778  1962       Orange   \n",
       "3         4        3.0       2376     145143  1970  Los Angeles   \n",
       "4         4        3.0       2962     773303  1950  Los Angeles   \n",
       "\n",
       "  bathrooms_binned bedrooms_binned  total_rooms square_ft_binned decade  \n",
       "0            1-3.5             4-6          7.5            3000+   1990  \n",
       "1            1-3.5             1-3          3.0           0-1500  <1970  \n",
       "2            1-3.5             1-3          5.0           0-1500  <1970  \n",
       "3            1-3.5             4-6          7.0        2001-3000  <1970  \n",
       "4            1-3.5             4-6          7.0        2001-3000  <1970  "
      ]
     },
     "execution_count": 39,
     "metadata": {},
     "output_type": "execute_result"
    }
   ],
   "source": [
    "df.head()"
   ]
  },
  {
   "cell_type": "code",
   "execution_count": 40,
   "id": "6bb1f639",
   "metadata": {},
   "outputs": [
    {
     "data": {
      "text/plain": [
       "5.0     13853\n",
       "6.0      8850\n",
       "4.0      6215\n",
       "7.0      6135\n",
       "3.0      5136\n",
       "8.0      2613\n",
       "5.5      1999\n",
       "6.5      1868\n",
       "9.0      1132\n",
       "7.5       739\n",
       "4.5       695\n",
       "10.0      580\n",
       "2.0       530\n",
       "8.5       492\n",
       "9.5       342\n",
       "11.0      296\n",
       "3.5       229\n",
       "10.5      192\n",
       "12.0      106\n",
       "13.0       64\n",
       "11.5       57\n",
       "14.0       32\n",
       "12.5       28\n",
       "15.0       19\n",
       "16.0       11\n",
       "13.5        9\n",
       "17.0        6\n",
       "18.0        5\n",
       "20.0        2\n",
       "2.5         1\n",
       "19.0        1\n",
       "32.0        1\n",
       "14.5        1\n",
       "15.5        1\n",
       "21.0        1\n",
       "Name: total_rooms, dtype: int64"
      ]
     },
     "execution_count": 40,
     "metadata": {},
     "output_type": "execute_result"
    }
   ],
   "source": [
    "df.total_rooms.value_counts()"
   ]
  },
  {
   "cell_type": "code",
   "execution_count": 42,
   "id": "46e8f623",
   "metadata": {},
   "outputs": [],
   "source": [
    "bin_bound = [0, 3.9, 4.9, 5.9, 6.9, 33]\n",
    "\n",
    "bin_labels = [3, 4, 5, 6, 32]\n",
    "\n",
    "df['total_rooms_bin'] = pd.cut(df['total_rooms'], bins = bin_bound, labels = bin_labels)"
   ]
  },
  {
   "cell_type": "code",
   "execution_count": 44,
   "id": "2a857c3d",
   "metadata": {},
   "outputs": [
    {
     "data": {
      "text/html": [
       "<div>\n",
       "<style scoped>\n",
       "    .dataframe tbody tr th:only-of-type {\n",
       "        vertical-align: middle;\n",
       "    }\n",
       "\n",
       "    .dataframe tbody tr th {\n",
       "        vertical-align: top;\n",
       "    }\n",
       "\n",
       "    .dataframe thead th {\n",
       "        text-align: right;\n",
       "    }\n",
       "</style>\n",
       "<table border=\"1\" class=\"dataframe\">\n",
       "  <thead>\n",
       "    <tr style=\"text-align: right;\">\n",
       "      <th></th>\n",
       "      <th>bedrooms</th>\n",
       "      <th>bathrooms</th>\n",
       "      <th>square_ft</th>\n",
       "      <th>tax_value</th>\n",
       "      <th>year</th>\n",
       "      <th>county</th>\n",
       "      <th>bathrooms_binned</th>\n",
       "      <th>bedrooms_binned</th>\n",
       "      <th>total_rooms</th>\n",
       "      <th>square_ft_binned</th>\n",
       "      <th>decade</th>\n",
       "      <th>total_rooms_bin</th>\n",
       "    </tr>\n",
       "  </thead>\n",
       "  <tbody>\n",
       "    <tr>\n",
       "      <th>52436</th>\n",
       "      <td>4</td>\n",
       "      <td>2.0</td>\n",
       "      <td>1633</td>\n",
       "      <td>346534</td>\n",
       "      <td>1962</td>\n",
       "      <td>Los Angeles</td>\n",
       "      <td>1-3.5</td>\n",
       "      <td>4-6</td>\n",
       "      <td>6.0</td>\n",
       "      <td>1501-2000</td>\n",
       "      <td>&lt;1970</td>\n",
       "      <td>6</td>\n",
       "    </tr>\n",
       "    <tr>\n",
       "      <th>52437</th>\n",
       "      <td>2</td>\n",
       "      <td>2.0</td>\n",
       "      <td>1286</td>\n",
       "      <td>354621</td>\n",
       "      <td>1940</td>\n",
       "      <td>Los Angeles</td>\n",
       "      <td>1-3.5</td>\n",
       "      <td>1-3</td>\n",
       "      <td>4.0</td>\n",
       "      <td>0-1500</td>\n",
       "      <td>&lt;1970</td>\n",
       "      <td>4</td>\n",
       "    </tr>\n",
       "    <tr>\n",
       "      <th>52438</th>\n",
       "      <td>4</td>\n",
       "      <td>2.0</td>\n",
       "      <td>1612</td>\n",
       "      <td>67205</td>\n",
       "      <td>1964</td>\n",
       "      <td>Ventura</td>\n",
       "      <td>1-3.5</td>\n",
       "      <td>4-6</td>\n",
       "      <td>6.0</td>\n",
       "      <td>1501-2000</td>\n",
       "      <td>&lt;1970</td>\n",
       "      <td>6</td>\n",
       "    </tr>\n",
       "    <tr>\n",
       "      <th>52439</th>\n",
       "      <td>3</td>\n",
       "      <td>1.0</td>\n",
       "      <td>1032</td>\n",
       "      <td>49546</td>\n",
       "      <td>1954</td>\n",
       "      <td>Los Angeles</td>\n",
       "      <td>1-3.5</td>\n",
       "      <td>1-3</td>\n",
       "      <td>4.0</td>\n",
       "      <td>0-1500</td>\n",
       "      <td>&lt;1970</td>\n",
       "      <td>4</td>\n",
       "    </tr>\n",
       "    <tr>\n",
       "      <th>52440</th>\n",
       "      <td>3</td>\n",
       "      <td>2.0</td>\n",
       "      <td>1762</td>\n",
       "      <td>522000</td>\n",
       "      <td>1955</td>\n",
       "      <td>Los Angeles</td>\n",
       "      <td>1-3.5</td>\n",
       "      <td>1-3</td>\n",
       "      <td>5.0</td>\n",
       "      <td>1501-2000</td>\n",
       "      <td>&lt;1970</td>\n",
       "      <td>5</td>\n",
       "    </tr>\n",
       "  </tbody>\n",
       "</table>\n",
       "</div>"
      ],
      "text/plain": [
       "       bedrooms  bathrooms  square_ft  tax_value  year       county  \\\n",
       "52436         4        2.0       1633     346534  1962  Los Angeles   \n",
       "52437         2        2.0       1286     354621  1940  Los Angeles   \n",
       "52438         4        2.0       1612      67205  1964      Ventura   \n",
       "52439         3        1.0       1032      49546  1954  Los Angeles   \n",
       "52440         3        2.0       1762     522000  1955  Los Angeles   \n",
       "\n",
       "      bathrooms_binned bedrooms_binned  total_rooms square_ft_binned decade  \\\n",
       "52436            1-3.5             4-6          6.0        1501-2000  <1970   \n",
       "52437            1-3.5             1-3          4.0           0-1500  <1970   \n",
       "52438            1-3.5             4-6          6.0        1501-2000  <1970   \n",
       "52439            1-3.5             1-3          4.0           0-1500  <1970   \n",
       "52440            1-3.5             1-3          5.0        1501-2000  <1970   \n",
       "\n",
       "      total_rooms_bin  \n",
       "52436               6  \n",
       "52437               4  \n",
       "52438               6  \n",
       "52439               4  \n",
       "52440               5  "
      ]
     },
     "execution_count": 44,
     "metadata": {},
     "output_type": "execute_result"
    }
   ],
   "source": [
    "df.tail()"
   ]
  },
  {
   "cell_type": "code",
   "execution_count": null,
   "id": "559dc07c",
   "metadata": {},
   "outputs": [],
   "source": []
  }
 ],
 "metadata": {
  "kernelspec": {
   "display_name": "Python 3 (ipykernel)",
   "language": "python",
   "name": "python3"
  },
  "language_info": {
   "codemirror_mode": {
    "name": "ipython",
    "version": 3
   },
   "file_extension": ".py",
   "mimetype": "text/x-python",
   "name": "python",
   "nbconvert_exporter": "python",
   "pygments_lexer": "ipython3",
   "version": "3.11.3"
  }
 },
 "nbformat": 4,
 "nbformat_minor": 5
}
