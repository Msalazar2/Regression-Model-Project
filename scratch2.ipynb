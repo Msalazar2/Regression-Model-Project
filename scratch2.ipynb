{
 "cells": [
  {
   "cell_type": "code",
   "execution_count": 1,
   "id": "ce3a64bf",
   "metadata": {},
   "outputs": [],
   "source": [
    "import pandas as pd\n",
    "import numpy as np\n",
    "\n",
    "import matplotlib.pyplot as plt\n",
    "import seaborn as sns\n",
    "\n",
    "import wrangle as w\n",
    "import model as m\n",
    "import preprocess as p\n",
    "import explore as ex\n",
    "import evaluate as e\n",
    "\n",
    "from sklearn.linear_model import LinearRegression, LassoLars, TweedieRegressor\n",
    "from sklearn.preprocessing import PolynomialFeatures\n",
    "\n",
    "from sklearn.ensemble import RandomForestRegressor\n",
    "from xgboost import XGBRegressor"
   ]
  },
  {
   "cell_type": "code",
   "execution_count": 2,
   "id": "ae97abfa",
   "metadata": {},
   "outputs": [
    {
     "name": "stdout",
     "output_type": "stream",
     "text": [
      "found data\n"
     ]
    },
    {
     "data": {
      "text/html": [
       "<div>\n",
       "<style scoped>\n",
       "    .dataframe tbody tr th:only-of-type {\n",
       "        vertical-align: middle;\n",
       "    }\n",
       "\n",
       "    .dataframe tbody tr th {\n",
       "        vertical-align: top;\n",
       "    }\n",
       "\n",
       "    .dataframe thead th {\n",
       "        text-align: right;\n",
       "    }\n",
       "</style>\n",
       "<table border=\"1\" class=\"dataframe\">\n",
       "  <thead>\n",
       "    <tr style=\"text-align: right;\">\n",
       "      <th></th>\n",
       "      <th>bedrooms</th>\n",
       "      <th>bathrooms</th>\n",
       "      <th>square_ft</th>\n",
       "      <th>tax_value</th>\n",
       "      <th>year</th>\n",
       "      <th>county</th>\n",
       "    </tr>\n",
       "  </thead>\n",
       "  <tbody>\n",
       "    <tr>\n",
       "      <th>0</th>\n",
       "      <td>4</td>\n",
       "      <td>3.5</td>\n",
       "      <td>3100</td>\n",
       "      <td>1023282</td>\n",
       "      <td>1998</td>\n",
       "      <td>Orange</td>\n",
       "    </tr>\n",
       "    <tr>\n",
       "      <th>1</th>\n",
       "      <td>2</td>\n",
       "      <td>1.0</td>\n",
       "      <td>1465</td>\n",
       "      <td>464000</td>\n",
       "      <td>1967</td>\n",
       "      <td>Ventura</td>\n",
       "    </tr>\n",
       "    <tr>\n",
       "      <th>2</th>\n",
       "      <td>3</td>\n",
       "      <td>2.0</td>\n",
       "      <td>1243</td>\n",
       "      <td>564778</td>\n",
       "      <td>1962</td>\n",
       "      <td>Orange</td>\n",
       "    </tr>\n",
       "    <tr>\n",
       "      <th>3</th>\n",
       "      <td>4</td>\n",
       "      <td>3.0</td>\n",
       "      <td>2376</td>\n",
       "      <td>145143</td>\n",
       "      <td>1970</td>\n",
       "      <td>Los Angeles</td>\n",
       "    </tr>\n",
       "    <tr>\n",
       "      <th>4</th>\n",
       "      <td>4</td>\n",
       "      <td>3.0</td>\n",
       "      <td>2962</td>\n",
       "      <td>773303</td>\n",
       "      <td>1950</td>\n",
       "      <td>Los Angeles</td>\n",
       "    </tr>\n",
       "  </tbody>\n",
       "</table>\n",
       "</div>"
      ],
      "text/plain": [
       "   bedrooms  bathrooms  square_ft  tax_value  year       county\n",
       "0         4        3.5       3100    1023282  1998       Orange\n",
       "1         2        1.0       1465     464000  1967      Ventura\n",
       "2         3        2.0       1243     564778  1962       Orange\n",
       "3         4        3.0       2376     145143  1970  Los Angeles\n",
       "4         4        3.0       2962     773303  1950  Los Angeles"
      ]
     },
     "execution_count": 2,
     "metadata": {},
     "output_type": "execute_result"
    }
   ],
   "source": [
    "df = w.clean_zillow()\n",
    "df.head()"
   ]
  },
  {
   "cell_type": "code",
   "execution_count": 5,
   "id": "49baf18a",
   "metadata": {},
   "outputs": [
    {
     "data": {
      "text/plain": [
       "3     23346\n",
       "4     15226\n",
       "2      8332\n",
       "5      3970\n",
       "6       633\n",
       "1       605\n",
       "7       106\n",
       "0        57\n",
       "8        24\n",
       "9         8\n",
       "12        3\n",
       "10        2\n",
       "14        1\n",
       "11        1\n",
       "Name: bedrooms, dtype: int64"
      ]
     },
     "execution_count": 5,
     "metadata": {},
     "output_type": "execute_result"
    }
   ],
   "source": [
    "df.bedrooms.value_counts()"
   ]
  },
  {
   "cell_type": "code",
   "execution_count": 6,
   "id": "54ea1d09",
   "metadata": {},
   "outputs": [
    {
     "data": {
      "text/plain": [
       "2.0     21887\n",
       "3.0     10664\n",
       "1.0      9552\n",
       "2.5      3931\n",
       "4.0      2227\n",
       "3.5       913\n",
       "1.5       839\n",
       "5.0       803\n",
       "4.5       682\n",
       "6.0       322\n",
       "5.5       224\n",
       "7.0        88\n",
       "8.0        53\n",
       "6.5        47\n",
       "0.0        41\n",
       "7.5        16\n",
       "9.0        13\n",
       "10.0        5\n",
       "11.0        3\n",
       "8.5         2\n",
       "18.0        1\n",
       "13.0        1\n",
       "Name: bathrooms, dtype: int64"
      ]
     },
     "execution_count": 6,
     "metadata": {},
     "output_type": "execute_result"
    }
   ],
   "source": [
    "df.bathrooms.value_counts()"
   ]
  },
  {
   "cell_type": "code",
   "execution_count": 9,
   "id": "ef1be734",
   "metadata": {},
   "outputs": [
    {
     "data": {
      "text/html": [
       "<div>\n",
       "<style scoped>\n",
       "    .dataframe tbody tr th:only-of-type {\n",
       "        vertical-align: middle;\n",
       "    }\n",
       "\n",
       "    .dataframe tbody tr th {\n",
       "        vertical-align: top;\n",
       "    }\n",
       "\n",
       "    .dataframe thead th {\n",
       "        text-align: right;\n",
       "    }\n",
       "</style>\n",
       "<table border=\"1\" class=\"dataframe\">\n",
       "  <thead>\n",
       "    <tr style=\"text-align: right;\">\n",
       "      <th></th>\n",
       "      <th>bedrooms</th>\n",
       "      <th>bathrooms</th>\n",
       "      <th>square_ft</th>\n",
       "      <th>tax_value</th>\n",
       "      <th>year</th>\n",
       "      <th>county</th>\n",
       "    </tr>\n",
       "  </thead>\n",
       "  <tbody>\n",
       "  </tbody>\n",
       "</table>\n",
       "</div>"
      ],
      "text/plain": [
       "Empty DataFrame\n",
       "Columns: [bedrooms, bathrooms, square_ft, tax_value, year, county]\n",
       "Index: []"
      ]
     },
     "execution_count": 9,
     "metadata": {},
     "output_type": "execute_result"
    }
   ],
   "source": [
    "df[df.square_ft == 0]"
   ]
  },
  {
   "cell_type": "code",
   "execution_count": 10,
   "id": "5eba8cfe",
   "metadata": {},
   "outputs": [
    {
     "data": {
      "text/html": [
       "<div>\n",
       "<style scoped>\n",
       "    .dataframe tbody tr th:only-of-type {\n",
       "        vertical-align: middle;\n",
       "    }\n",
       "\n",
       "    .dataframe tbody tr th {\n",
       "        vertical-align: top;\n",
       "    }\n",
       "\n",
       "    .dataframe thead th {\n",
       "        text-align: right;\n",
       "    }\n",
       "</style>\n",
       "<table border=\"1\" class=\"dataframe\">\n",
       "  <thead>\n",
       "    <tr style=\"text-align: right;\">\n",
       "      <th></th>\n",
       "      <th>bedrooms</th>\n",
       "      <th>bathrooms</th>\n",
       "      <th>square_ft</th>\n",
       "      <th>tax_value</th>\n",
       "      <th>year</th>\n",
       "      <th>county</th>\n",
       "    </tr>\n",
       "  </thead>\n",
       "  <tbody>\n",
       "  </tbody>\n",
       "</table>\n",
       "</div>"
      ],
      "text/plain": [
       "Empty DataFrame\n",
       "Columns: [bedrooms, bathrooms, square_ft, tax_value, year, county]\n",
       "Index: []"
      ]
     },
     "execution_count": 10,
     "metadata": {},
     "output_type": "execute_result"
    }
   ],
   "source": [
    "df[df.tax_value == 0]"
   ]
  },
  {
   "cell_type": "code",
   "execution_count": 11,
   "id": "2322439f",
   "metadata": {},
   "outputs": [
    {
     "data": {
      "text/html": [
       "<div>\n",
       "<style scoped>\n",
       "    .dataframe tbody tr th:only-of-type {\n",
       "        vertical-align: middle;\n",
       "    }\n",
       "\n",
       "    .dataframe tbody tr th {\n",
       "        vertical-align: top;\n",
       "    }\n",
       "\n",
       "    .dataframe thead th {\n",
       "        text-align: right;\n",
       "    }\n",
       "</style>\n",
       "<table border=\"1\" class=\"dataframe\">\n",
       "  <thead>\n",
       "    <tr style=\"text-align: right;\">\n",
       "      <th></th>\n",
       "      <th>bedrooms</th>\n",
       "      <th>bathrooms</th>\n",
       "      <th>square_ft</th>\n",
       "      <th>tax_value</th>\n",
       "      <th>year</th>\n",
       "      <th>county</th>\n",
       "    </tr>\n",
       "  </thead>\n",
       "  <tbody>\n",
       "  </tbody>\n",
       "</table>\n",
       "</div>"
      ],
      "text/plain": [
       "Empty DataFrame\n",
       "Columns: [bedrooms, bathrooms, square_ft, tax_value, year, county]\n",
       "Index: []"
      ]
     },
     "execution_count": 11,
     "metadata": {},
     "output_type": "execute_result"
    }
   ],
   "source": [
    "df[df.year == 0]"
   ]
  },
  {
   "cell_type": "code",
   "execution_count": 13,
   "id": "bdecbd39",
   "metadata": {},
   "outputs": [],
   "source": [
    "df = df[df.bedrooms != 0]"
   ]
  },
  {
   "cell_type": "code",
   "execution_count": 14,
   "id": "ff56df9f",
   "metadata": {},
   "outputs": [],
   "source": [
    "df = df[df.bathrooms != 0]"
   ]
  },
  {
   "cell_type": "code",
   "execution_count": 15,
   "id": "202a1018",
   "metadata": {},
   "outputs": [
    {
     "data": {
      "text/plain": [
       "3     23339\n",
       "4     15222\n",
       "2      8330\n",
       "5      3970\n",
       "6       633\n",
       "1       602\n",
       "7       106\n",
       "8        24\n",
       "9         8\n",
       "12        3\n",
       "10        2\n",
       "14        1\n",
       "11        1\n",
       "Name: bedrooms, dtype: int64"
      ]
     },
     "execution_count": 15,
     "metadata": {},
     "output_type": "execute_result"
    }
   ],
   "source": [
    "df.bedrooms.value_counts()"
   ]
  },
  {
   "cell_type": "code",
   "execution_count": 17,
   "id": "6ca311bd",
   "metadata": {},
   "outputs": [
    {
     "data": {
      "text/plain": [
       "2.0     21879\n",
       "3.0     10660\n",
       "1.0      9534\n",
       "2.5      3930\n",
       "4.0      2227\n",
       "3.5       913\n",
       "1.5       839\n",
       "5.0       802\n",
       "4.5       682\n",
       "6.0       322\n",
       "5.5       224\n",
       "7.0        88\n",
       "8.0        53\n",
       "6.5        47\n",
       "7.5        16\n",
       "9.0        13\n",
       "10.0        5\n",
       "11.0        3\n",
       "8.5         2\n",
       "18.0        1\n",
       "13.0        1\n",
       "Name: bathrooms, dtype: int64"
      ]
     },
     "execution_count": 17,
     "metadata": {},
     "output_type": "execute_result"
    }
   ],
   "source": [
    "df.bathrooms.value_counts()"
   ]
  },
  {
   "cell_type": "code",
   "execution_count": 18,
   "id": "9aaac18b",
   "metadata": {},
   "outputs": [
    {
     "data": {
      "text/plain": [
       "(52241, 6)"
      ]
     },
     "execution_count": 18,
     "metadata": {},
     "output_type": "execute_result"
    }
   ],
   "source": [
    "df.shape"
   ]
  },
  {
   "cell_type": "code",
   "execution_count": 40,
   "id": "a40198a2",
   "metadata": {},
   "outputs": [
    {
     "data": {
      "text/html": [
       "<div>\n",
       "<style scoped>\n",
       "    .dataframe tbody tr th:only-of-type {\n",
       "        vertical-align: middle;\n",
       "    }\n",
       "\n",
       "    .dataframe tbody tr th {\n",
       "        vertical-align: top;\n",
       "    }\n",
       "\n",
       "    .dataframe thead th {\n",
       "        text-align: right;\n",
       "    }\n",
       "</style>\n",
       "<table border=\"1\" class=\"dataframe\">\n",
       "  <thead>\n",
       "    <tr style=\"text-align: right;\">\n",
       "      <th></th>\n",
       "      <th>bedrooms</th>\n",
       "      <th>bathrooms</th>\n",
       "      <th>square_ft</th>\n",
       "      <th>tax_value</th>\n",
       "      <th>year</th>\n",
       "      <th>county</th>\n",
       "      <th>bathrooms_binned</th>\n",
       "      <th>bedrooms_binned</th>\n",
       "    </tr>\n",
       "  </thead>\n",
       "  <tbody>\n",
       "    <tr>\n",
       "      <th>5740</th>\n",
       "      <td>14</td>\n",
       "      <td>18.0</td>\n",
       "      <td>18654</td>\n",
       "      <td>49061236</td>\n",
       "      <td>1927</td>\n",
       "      <td>Los Angeles</td>\n",
       "      <td>7+</td>\n",
       "      <td>7+</td>\n",
       "    </tr>\n",
       "  </tbody>\n",
       "</table>\n",
       "</div>"
      ],
      "text/plain": [
       "      bedrooms  bathrooms  square_ft  tax_value  year       county  \\\n",
       "5740        14       18.0      18654   49061236  1927  Los Angeles   \n",
       "\n",
       "     bathrooms_binned bedrooms_binned  \n",
       "5740               7+              7+  "
      ]
     },
     "execution_count": 40,
     "metadata": {},
     "output_type": "execute_result"
    }
   ],
   "source": [
    "bin_bound = [0, 3.9, 6.9, 18]\n",
    "\n",
    "bin_labels = ['1-3.5', '4-6.5', '7+']\n",
    "\n",
    "df['bathrooms_binned'] = pd.cut(df['bathrooms'], bins = bin_bound, labels = bin_labels)\n",
    "df[df.bathrooms == 18]"
   ]
  },
  {
   "cell_type": "code",
   "execution_count": 41,
   "id": "f0dbc39d",
   "metadata": {},
   "outputs": [
    {
     "data": {
      "text/plain": [
       "1-3.5    47755\n",
       "4-6.5     4304\n",
       "7+         182\n",
       "Name: bathrooms_binned, dtype: int64"
      ]
     },
     "execution_count": 41,
     "metadata": {},
     "output_type": "execute_result"
    }
   ],
   "source": [
    "df.bathrooms_binned.value_counts()"
   ]
  },
  {
   "cell_type": "code",
   "execution_count": 43,
   "id": "bf1c6c30",
   "metadata": {},
   "outputs": [
    {
     "data": {
      "text/html": [
       "<div>\n",
       "<style scoped>\n",
       "    .dataframe tbody tr th:only-of-type {\n",
       "        vertical-align: middle;\n",
       "    }\n",
       "\n",
       "    .dataframe tbody tr th {\n",
       "        vertical-align: top;\n",
       "    }\n",
       "\n",
       "    .dataframe thead th {\n",
       "        text-align: right;\n",
       "    }\n",
       "</style>\n",
       "<table border=\"1\" class=\"dataframe\">\n",
       "  <thead>\n",
       "    <tr style=\"text-align: right;\">\n",
       "      <th></th>\n",
       "      <th>bedrooms</th>\n",
       "      <th>bathrooms</th>\n",
       "      <th>square_ft</th>\n",
       "      <th>tax_value</th>\n",
       "      <th>year</th>\n",
       "      <th>county</th>\n",
       "      <th>bathrooms_binned</th>\n",
       "      <th>bedrooms_binned</th>\n",
       "    </tr>\n",
       "  </thead>\n",
       "  <tbody>\n",
       "    <tr>\n",
       "      <th>88</th>\n",
       "      <td>1</td>\n",
       "      <td>1.0</td>\n",
       "      <td>455</td>\n",
       "      <td>86152</td>\n",
       "      <td>1922</td>\n",
       "      <td>Orange</td>\n",
       "      <td>1-3.5</td>\n",
       "      <td>1-3</td>\n",
       "    </tr>\n",
       "    <tr>\n",
       "      <th>210</th>\n",
       "      <td>1</td>\n",
       "      <td>3.0</td>\n",
       "      <td>1619</td>\n",
       "      <td>1664376</td>\n",
       "      <td>1949</td>\n",
       "      <td>Los Angeles</td>\n",
       "      <td>1-3.5</td>\n",
       "      <td>1-3</td>\n",
       "    </tr>\n",
       "    <tr>\n",
       "      <th>227</th>\n",
       "      <td>1</td>\n",
       "      <td>1.0</td>\n",
       "      <td>528</td>\n",
       "      <td>342000</td>\n",
       "      <td>1929</td>\n",
       "      <td>Los Angeles</td>\n",
       "      <td>1-3.5</td>\n",
       "      <td>1-3</td>\n",
       "    </tr>\n",
       "    <tr>\n",
       "      <th>287</th>\n",
       "      <td>1</td>\n",
       "      <td>1.0</td>\n",
       "      <td>784</td>\n",
       "      <td>188067</td>\n",
       "      <td>1952</td>\n",
       "      <td>Los Angeles</td>\n",
       "      <td>1-3.5</td>\n",
       "      <td>1-3</td>\n",
       "    </tr>\n",
       "    <tr>\n",
       "      <th>466</th>\n",
       "      <td>1</td>\n",
       "      <td>1.0</td>\n",
       "      <td>520</td>\n",
       "      <td>32640</td>\n",
       "      <td>1922</td>\n",
       "      <td>Los Angeles</td>\n",
       "      <td>1-3.5</td>\n",
       "      <td>1-3</td>\n",
       "    </tr>\n",
       "    <tr>\n",
       "      <th>...</th>\n",
       "      <td>...</td>\n",
       "      <td>...</td>\n",
       "      <td>...</td>\n",
       "      <td>...</td>\n",
       "      <td>...</td>\n",
       "      <td>...</td>\n",
       "      <td>...</td>\n",
       "      <td>...</td>\n",
       "    </tr>\n",
       "    <tr>\n",
       "      <th>51979</th>\n",
       "      <td>1</td>\n",
       "      <td>1.0</td>\n",
       "      <td>512</td>\n",
       "      <td>58300</td>\n",
       "      <td>1923</td>\n",
       "      <td>Los Angeles</td>\n",
       "      <td>1-3.5</td>\n",
       "      <td>1-3</td>\n",
       "    </tr>\n",
       "    <tr>\n",
       "      <th>52056</th>\n",
       "      <td>1</td>\n",
       "      <td>1.0</td>\n",
       "      <td>588</td>\n",
       "      <td>320000</td>\n",
       "      <td>1921</td>\n",
       "      <td>Los Angeles</td>\n",
       "      <td>1-3.5</td>\n",
       "      <td>1-3</td>\n",
       "    </tr>\n",
       "    <tr>\n",
       "      <th>52211</th>\n",
       "      <td>1</td>\n",
       "      <td>2.0</td>\n",
       "      <td>2508</td>\n",
       "      <td>183902</td>\n",
       "      <td>1958</td>\n",
       "      <td>Orange</td>\n",
       "      <td>1-3.5</td>\n",
       "      <td>1-3</td>\n",
       "    </tr>\n",
       "    <tr>\n",
       "      <th>52255</th>\n",
       "      <td>1</td>\n",
       "      <td>1.0</td>\n",
       "      <td>800</td>\n",
       "      <td>913725</td>\n",
       "      <td>1932</td>\n",
       "      <td>Los Angeles</td>\n",
       "      <td>1-3.5</td>\n",
       "      <td>1-3</td>\n",
       "    </tr>\n",
       "    <tr>\n",
       "      <th>52432</th>\n",
       "      <td>1</td>\n",
       "      <td>1.0</td>\n",
       "      <td>624</td>\n",
       "      <td>81706</td>\n",
       "      <td>1944</td>\n",
       "      <td>Los Angeles</td>\n",
       "      <td>1-3.5</td>\n",
       "      <td>1-3</td>\n",
       "    </tr>\n",
       "  </tbody>\n",
       "</table>\n",
       "<p>602 rows × 8 columns</p>\n",
       "</div>"
      ],
      "text/plain": [
       "       bedrooms  bathrooms  square_ft  tax_value  year       county  \\\n",
       "88            1        1.0        455      86152  1922       Orange   \n",
       "210           1        3.0       1619    1664376  1949  Los Angeles   \n",
       "227           1        1.0        528     342000  1929  Los Angeles   \n",
       "287           1        1.0        784     188067  1952  Los Angeles   \n",
       "466           1        1.0        520      32640  1922  Los Angeles   \n",
       "...         ...        ...        ...        ...   ...          ...   \n",
       "51979         1        1.0        512      58300  1923  Los Angeles   \n",
       "52056         1        1.0        588     320000  1921  Los Angeles   \n",
       "52211         1        2.0       2508     183902  1958       Orange   \n",
       "52255         1        1.0        800     913725  1932  Los Angeles   \n",
       "52432         1        1.0        624      81706  1944  Los Angeles   \n",
       "\n",
       "      bathrooms_binned bedrooms_binned  \n",
       "88               1-3.5             1-3  \n",
       "210              1-3.5             1-3  \n",
       "227              1-3.5             1-3  \n",
       "287              1-3.5             1-3  \n",
       "466              1-3.5             1-3  \n",
       "...                ...             ...  \n",
       "51979            1-3.5             1-3  \n",
       "52056            1-3.5             1-3  \n",
       "52211            1-3.5             1-3  \n",
       "52255            1-3.5             1-3  \n",
       "52432            1-3.5             1-3  \n",
       "\n",
       "[602 rows x 8 columns]"
      ]
     },
     "execution_count": 43,
     "metadata": {},
     "output_type": "execute_result"
    }
   ],
   "source": [
    "bin_bound = [0, 3.9, 6.9, 14]\n",
    "\n",
    "bin_labels = ['1-3', '4-6', '7+']\n",
    "\n",
    "df['bedrooms_binned'] = pd.cut(df['bedrooms'], bins = bin_bound, labels = bin_labels)\n",
    "df[df.bedrooms == 1]"
   ]
  },
  {
   "cell_type": "code",
   "execution_count": 44,
   "id": "67ab9e9a",
   "metadata": {},
   "outputs": [],
   "source": [
    "df['total_rooms'] = df.bedrooms + df.bathrooms"
   ]
  },
  {
   "cell_type": "code",
   "execution_count": 45,
   "id": "c2d29f35",
   "metadata": {},
   "outputs": [
    {
     "data": {
      "text/html": [
       "<div>\n",
       "<style scoped>\n",
       "    .dataframe tbody tr th:only-of-type {\n",
       "        vertical-align: middle;\n",
       "    }\n",
       "\n",
       "    .dataframe tbody tr th {\n",
       "        vertical-align: top;\n",
       "    }\n",
       "\n",
       "    .dataframe thead th {\n",
       "        text-align: right;\n",
       "    }\n",
       "</style>\n",
       "<table border=\"1\" class=\"dataframe\">\n",
       "  <thead>\n",
       "    <tr style=\"text-align: right;\">\n",
       "      <th></th>\n",
       "      <th>bedrooms</th>\n",
       "      <th>bathrooms</th>\n",
       "      <th>square_ft</th>\n",
       "      <th>tax_value</th>\n",
       "      <th>year</th>\n",
       "      <th>county</th>\n",
       "      <th>bathrooms_binned</th>\n",
       "      <th>bedrooms_binned</th>\n",
       "      <th>total_rooms</th>\n",
       "    </tr>\n",
       "  </thead>\n",
       "  <tbody>\n",
       "    <tr>\n",
       "      <th>0</th>\n",
       "      <td>4</td>\n",
       "      <td>3.5</td>\n",
       "      <td>3100</td>\n",
       "      <td>1023282</td>\n",
       "      <td>1998</td>\n",
       "      <td>Orange</td>\n",
       "      <td>1-3.5</td>\n",
       "      <td>4-6</td>\n",
       "      <td>7.5</td>\n",
       "    </tr>\n",
       "    <tr>\n",
       "      <th>1</th>\n",
       "      <td>2</td>\n",
       "      <td>1.0</td>\n",
       "      <td>1465</td>\n",
       "      <td>464000</td>\n",
       "      <td>1967</td>\n",
       "      <td>Ventura</td>\n",
       "      <td>1-3.5</td>\n",
       "      <td>1-3</td>\n",
       "      <td>3.0</td>\n",
       "    </tr>\n",
       "    <tr>\n",
       "      <th>2</th>\n",
       "      <td>3</td>\n",
       "      <td>2.0</td>\n",
       "      <td>1243</td>\n",
       "      <td>564778</td>\n",
       "      <td>1962</td>\n",
       "      <td>Orange</td>\n",
       "      <td>1-3.5</td>\n",
       "      <td>1-3</td>\n",
       "      <td>5.0</td>\n",
       "    </tr>\n",
       "    <tr>\n",
       "      <th>3</th>\n",
       "      <td>4</td>\n",
       "      <td>3.0</td>\n",
       "      <td>2376</td>\n",
       "      <td>145143</td>\n",
       "      <td>1970</td>\n",
       "      <td>Los Angeles</td>\n",
       "      <td>1-3.5</td>\n",
       "      <td>4-6</td>\n",
       "      <td>7.0</td>\n",
       "    </tr>\n",
       "    <tr>\n",
       "      <th>4</th>\n",
       "      <td>4</td>\n",
       "      <td>3.0</td>\n",
       "      <td>2962</td>\n",
       "      <td>773303</td>\n",
       "      <td>1950</td>\n",
       "      <td>Los Angeles</td>\n",
       "      <td>1-3.5</td>\n",
       "      <td>4-6</td>\n",
       "      <td>7.0</td>\n",
       "    </tr>\n",
       "  </tbody>\n",
       "</table>\n",
       "</div>"
      ],
      "text/plain": [
       "   bedrooms  bathrooms  square_ft  tax_value  year       county  \\\n",
       "0         4        3.5       3100    1023282  1998       Orange   \n",
       "1         2        1.0       1465     464000  1967      Ventura   \n",
       "2         3        2.0       1243     564778  1962       Orange   \n",
       "3         4        3.0       2376     145143  1970  Los Angeles   \n",
       "4         4        3.0       2962     773303  1950  Los Angeles   \n",
       "\n",
       "  bathrooms_binned bedrooms_binned  total_rooms  \n",
       "0            1-3.5             4-6          7.5  \n",
       "1            1-3.5             1-3          3.0  \n",
       "2            1-3.5             1-3          5.0  \n",
       "3            1-3.5             4-6          7.0  \n",
       "4            1-3.5             4-6          7.0  "
      ]
     },
     "execution_count": 45,
     "metadata": {},
     "output_type": "execute_result"
    }
   ],
   "source": [
    "df.head()"
   ]
  },
  {
   "cell_type": "code",
   "execution_count": 46,
   "id": "932194fd",
   "metadata": {},
   "outputs": [
    {
     "data": {
      "text/plain": [
       "1120    127\n",
       "1200    118\n",
       "1080    101\n",
       "936      86\n",
       "1040     86\n",
       "       ... \n",
       "3079      1\n",
       "9843      1\n",
       "7088      1\n",
       "604       1\n",
       "5655      1\n",
       "Name: square_ft, Length: 4710, dtype: int64"
      ]
     },
     "execution_count": 46,
     "metadata": {},
     "output_type": "execute_result"
    }
   ],
   "source": [
    "df.square_ft.value_counts()"
   ]
  },
  {
   "cell_type": "code",
   "execution_count": 108,
   "id": "15c0d42b",
   "metadata": {},
   "outputs": [
    {
     "data": {
      "text/html": [
       "<div>\n",
       "<style scoped>\n",
       "    .dataframe tbody tr th:only-of-type {\n",
       "        vertical-align: middle;\n",
       "    }\n",
       "\n",
       "    .dataframe tbody tr th {\n",
       "        vertical-align: top;\n",
       "    }\n",
       "\n",
       "    .dataframe thead th {\n",
       "        text-align: right;\n",
       "    }\n",
       "</style>\n",
       "<table border=\"1\" class=\"dataframe\">\n",
       "  <thead>\n",
       "    <tr style=\"text-align: right;\">\n",
       "      <th></th>\n",
       "      <th>bedrooms</th>\n",
       "      <th>bathrooms</th>\n",
       "      <th>square_ft</th>\n",
       "      <th>tax_value</th>\n",
       "      <th>year</th>\n",
       "      <th>county</th>\n",
       "      <th>bathrooms_binned</th>\n",
       "      <th>bedrooms_binned</th>\n",
       "      <th>total_rooms</th>\n",
       "      <th>square_ft_binned</th>\n",
       "    </tr>\n",
       "  </thead>\n",
       "  <tbody>\n",
       "    <tr>\n",
       "      <th>88</th>\n",
       "      <td>1</td>\n",
       "      <td>1.0</td>\n",
       "      <td>455</td>\n",
       "      <td>86152</td>\n",
       "      <td>1922</td>\n",
       "      <td>Orange</td>\n",
       "      <td>1-3.5</td>\n",
       "      <td>1-3</td>\n",
       "      <td>2.0</td>\n",
       "      <td>0-1500</td>\n",
       "    </tr>\n",
       "    <tr>\n",
       "      <th>210</th>\n",
       "      <td>1</td>\n",
       "      <td>3.0</td>\n",
       "      <td>1619</td>\n",
       "      <td>1664376</td>\n",
       "      <td>1949</td>\n",
       "      <td>Los Angeles</td>\n",
       "      <td>1-3.5</td>\n",
       "      <td>1-3</td>\n",
       "      <td>4.0</td>\n",
       "      <td>1501-2000</td>\n",
       "    </tr>\n",
       "    <tr>\n",
       "      <th>227</th>\n",
       "      <td>1</td>\n",
       "      <td>1.0</td>\n",
       "      <td>528</td>\n",
       "      <td>342000</td>\n",
       "      <td>1929</td>\n",
       "      <td>Los Angeles</td>\n",
       "      <td>1-3.5</td>\n",
       "      <td>1-3</td>\n",
       "      <td>2.0</td>\n",
       "      <td>0-1500</td>\n",
       "    </tr>\n",
       "    <tr>\n",
       "      <th>287</th>\n",
       "      <td>1</td>\n",
       "      <td>1.0</td>\n",
       "      <td>784</td>\n",
       "      <td>188067</td>\n",
       "      <td>1952</td>\n",
       "      <td>Los Angeles</td>\n",
       "      <td>1-3.5</td>\n",
       "      <td>1-3</td>\n",
       "      <td>2.0</td>\n",
       "      <td>0-1500</td>\n",
       "    </tr>\n",
       "    <tr>\n",
       "      <th>466</th>\n",
       "      <td>1</td>\n",
       "      <td>1.0</td>\n",
       "      <td>520</td>\n",
       "      <td>32640</td>\n",
       "      <td>1922</td>\n",
       "      <td>Los Angeles</td>\n",
       "      <td>1-3.5</td>\n",
       "      <td>1-3</td>\n",
       "      <td>2.0</td>\n",
       "      <td>0-1500</td>\n",
       "    </tr>\n",
       "    <tr>\n",
       "      <th>...</th>\n",
       "      <td>...</td>\n",
       "      <td>...</td>\n",
       "      <td>...</td>\n",
       "      <td>...</td>\n",
       "      <td>...</td>\n",
       "      <td>...</td>\n",
       "      <td>...</td>\n",
       "      <td>...</td>\n",
       "      <td>...</td>\n",
       "      <td>...</td>\n",
       "    </tr>\n",
       "    <tr>\n",
       "      <th>51979</th>\n",
       "      <td>1</td>\n",
       "      <td>1.0</td>\n",
       "      <td>512</td>\n",
       "      <td>58300</td>\n",
       "      <td>1923</td>\n",
       "      <td>Los Angeles</td>\n",
       "      <td>1-3.5</td>\n",
       "      <td>1-3</td>\n",
       "      <td>2.0</td>\n",
       "      <td>0-1500</td>\n",
       "    </tr>\n",
       "    <tr>\n",
       "      <th>52056</th>\n",
       "      <td>1</td>\n",
       "      <td>1.0</td>\n",
       "      <td>588</td>\n",
       "      <td>320000</td>\n",
       "      <td>1921</td>\n",
       "      <td>Los Angeles</td>\n",
       "      <td>1-3.5</td>\n",
       "      <td>1-3</td>\n",
       "      <td>2.0</td>\n",
       "      <td>0-1500</td>\n",
       "    </tr>\n",
       "    <tr>\n",
       "      <th>52211</th>\n",
       "      <td>1</td>\n",
       "      <td>2.0</td>\n",
       "      <td>2508</td>\n",
       "      <td>183902</td>\n",
       "      <td>1958</td>\n",
       "      <td>Orange</td>\n",
       "      <td>1-3.5</td>\n",
       "      <td>1-3</td>\n",
       "      <td>3.0</td>\n",
       "      <td>2001-3000</td>\n",
       "    </tr>\n",
       "    <tr>\n",
       "      <th>52255</th>\n",
       "      <td>1</td>\n",
       "      <td>1.0</td>\n",
       "      <td>800</td>\n",
       "      <td>913725</td>\n",
       "      <td>1932</td>\n",
       "      <td>Los Angeles</td>\n",
       "      <td>1-3.5</td>\n",
       "      <td>1-3</td>\n",
       "      <td>2.0</td>\n",
       "      <td>0-1500</td>\n",
       "    </tr>\n",
       "    <tr>\n",
       "      <th>52432</th>\n",
       "      <td>1</td>\n",
       "      <td>1.0</td>\n",
       "      <td>624</td>\n",
       "      <td>81706</td>\n",
       "      <td>1944</td>\n",
       "      <td>Los Angeles</td>\n",
       "      <td>1-3.5</td>\n",
       "      <td>1-3</td>\n",
       "      <td>2.0</td>\n",
       "      <td>0-1500</td>\n",
       "    </tr>\n",
       "  </tbody>\n",
       "</table>\n",
       "<p>602 rows × 10 columns</p>\n",
       "</div>"
      ],
      "text/plain": [
       "       bedrooms  bathrooms  square_ft  tax_value  year       county  \\\n",
       "88            1        1.0        455      86152  1922       Orange   \n",
       "210           1        3.0       1619    1664376  1949  Los Angeles   \n",
       "227           1        1.0        528     342000  1929  Los Angeles   \n",
       "287           1        1.0        784     188067  1952  Los Angeles   \n",
       "466           1        1.0        520      32640  1922  Los Angeles   \n",
       "...         ...        ...        ...        ...   ...          ...   \n",
       "51979         1        1.0        512      58300  1923  Los Angeles   \n",
       "52056         1        1.0        588     320000  1921  Los Angeles   \n",
       "52211         1        2.0       2508     183902  1958       Orange   \n",
       "52255         1        1.0        800     913725  1932  Los Angeles   \n",
       "52432         1        1.0        624      81706  1944  Los Angeles   \n",
       "\n",
       "      bathrooms_binned bedrooms_binned  total_rooms square_ft_binned  \n",
       "88               1-3.5             1-3          2.0           0-1500  \n",
       "210              1-3.5             1-3          4.0        1501-2000  \n",
       "227              1-3.5             1-3          2.0           0-1500  \n",
       "287              1-3.5             1-3          2.0           0-1500  \n",
       "466              1-3.5             1-3          2.0           0-1500  \n",
       "...                ...             ...          ...              ...  \n",
       "51979            1-3.5             1-3          2.0           0-1500  \n",
       "52056            1-3.5             1-3          2.0           0-1500  \n",
       "52211            1-3.5             1-3          3.0        2001-3000  \n",
       "52255            1-3.5             1-3          2.0           0-1500  \n",
       "52432            1-3.5             1-3          2.0           0-1500  \n",
       "\n",
       "[602 rows x 10 columns]"
      ]
     },
     "execution_count": 108,
     "metadata": {},
     "output_type": "execute_result"
    }
   ],
   "source": [
    "bin_bound = [0, 1500, 2000, 3000, 21929 ]\n",
    "\n",
    "bin_labels = ['0-1500', '1501-2000', '2001-3000', '3000+']\n",
    "\n",
    "df['square_ft_binned'] = pd.cut(df['square_ft'], bins = bin_bound, labels = bin_labels)\n",
    "df[df.bedrooms == 1]"
   ]
  },
  {
   "cell_type": "code",
   "execution_count": 101,
   "id": "7420ccca",
   "metadata": {},
   "outputs": [
    {
     "data": {
      "text/plain": [
       "21120"
      ]
     },
     "execution_count": 101,
     "metadata": {},
     "output_type": "execute_result"
    }
   ],
   "source": [
    "len(df[df.square_ft < 1500])"
   ]
  },
  {
   "cell_type": "code",
   "execution_count": 102,
   "id": "4caf3a2d",
   "metadata": {},
   "outputs": [
    {
     "data": {
      "text/plain": [
       "12956"
      ]
     },
     "execution_count": 102,
     "metadata": {},
     "output_type": "execute_result"
    }
   ],
   "source": [
    "len(df[(df['square_ft'] > 1500) & (df['square_ft'] < 2000)])\n"
   ]
  },
  {
   "cell_type": "code",
   "execution_count": 103,
   "id": "c9ec2333",
   "metadata": {},
   "outputs": [
    {
     "data": {
      "text/plain": [
       "12081"
      ]
     },
     "execution_count": 103,
     "metadata": {},
     "output_type": "execute_result"
    }
   ],
   "source": [
    "len(df[(df['square_ft'] > 2000) & (df['square_ft'] < 3000)])\n"
   ]
  },
  {
   "cell_type": "code",
   "execution_count": 104,
   "id": "73db89b8",
   "metadata": {
    "scrolled": true
   },
   "outputs": [
    {
     "data": {
      "text/plain": [
       "5996"
      ]
     },
     "execution_count": 104,
     "metadata": {},
     "output_type": "execute_result"
    }
   ],
   "source": [
    "len(df[df.square_ft > 3000])"
   ]
  },
  {
   "cell_type": "code",
   "execution_count": 105,
   "id": "fd770e17",
   "metadata": {},
   "outputs": [
    {
     "data": {
      "text/plain": [
       "21929"
      ]
     },
     "execution_count": 105,
     "metadata": {},
     "output_type": "execute_result"
    }
   ],
   "source": [
    "df.square_ft.max()"
   ]
  },
  {
   "cell_type": "code",
   "execution_count": 113,
   "id": "7e4f82a6",
   "metadata": {},
   "outputs": [
    {
     "data": {
      "text/html": [
       "<div>\n",
       "<style scoped>\n",
       "    .dataframe tbody tr th:only-of-type {\n",
       "        vertical-align: middle;\n",
       "    }\n",
       "\n",
       "    .dataframe tbody tr th {\n",
       "        vertical-align: top;\n",
       "    }\n",
       "\n",
       "    .dataframe thead th {\n",
       "        text-align: right;\n",
       "    }\n",
       "</style>\n",
       "<table border=\"1\" class=\"dataframe\">\n",
       "  <thead>\n",
       "    <tr style=\"text-align: right;\">\n",
       "      <th></th>\n",
       "      <th>bedrooms</th>\n",
       "      <th>bathrooms</th>\n",
       "      <th>square_ft</th>\n",
       "      <th>tax_value</th>\n",
       "      <th>year</th>\n",
       "      <th>county</th>\n",
       "      <th>bathrooms_binned</th>\n",
       "      <th>bedrooms_binned</th>\n",
       "      <th>total_rooms</th>\n",
       "      <th>square_ft_binned</th>\n",
       "      <th>year_binned</th>\n",
       "      <th>decade</th>\n",
       "    </tr>\n",
       "  </thead>\n",
       "  <tbody>\n",
       "    <tr>\n",
       "      <th>88</th>\n",
       "      <td>1</td>\n",
       "      <td>1.0</td>\n",
       "      <td>455</td>\n",
       "      <td>86152</td>\n",
       "      <td>1922</td>\n",
       "      <td>Orange</td>\n",
       "      <td>1-3.5</td>\n",
       "      <td>1-3</td>\n",
       "      <td>2.0</td>\n",
       "      <td>0-1500</td>\n",
       "      <td>1970</td>\n",
       "      <td>1970</td>\n",
       "    </tr>\n",
       "    <tr>\n",
       "      <th>210</th>\n",
       "      <td>1</td>\n",
       "      <td>3.0</td>\n",
       "      <td>1619</td>\n",
       "      <td>1664376</td>\n",
       "      <td>1949</td>\n",
       "      <td>Los Angeles</td>\n",
       "      <td>1-3.5</td>\n",
       "      <td>1-3</td>\n",
       "      <td>4.0</td>\n",
       "      <td>1501-2000</td>\n",
       "      <td>1970</td>\n",
       "      <td>1970</td>\n",
       "    </tr>\n",
       "    <tr>\n",
       "      <th>227</th>\n",
       "      <td>1</td>\n",
       "      <td>1.0</td>\n",
       "      <td>528</td>\n",
       "      <td>342000</td>\n",
       "      <td>1929</td>\n",
       "      <td>Los Angeles</td>\n",
       "      <td>1-3.5</td>\n",
       "      <td>1-3</td>\n",
       "      <td>2.0</td>\n",
       "      <td>0-1500</td>\n",
       "      <td>1970</td>\n",
       "      <td>1970</td>\n",
       "    </tr>\n",
       "    <tr>\n",
       "      <th>287</th>\n",
       "      <td>1</td>\n",
       "      <td>1.0</td>\n",
       "      <td>784</td>\n",
       "      <td>188067</td>\n",
       "      <td>1952</td>\n",
       "      <td>Los Angeles</td>\n",
       "      <td>1-3.5</td>\n",
       "      <td>1-3</td>\n",
       "      <td>2.0</td>\n",
       "      <td>0-1500</td>\n",
       "      <td>1970</td>\n",
       "      <td>1970</td>\n",
       "    </tr>\n",
       "    <tr>\n",
       "      <th>466</th>\n",
       "      <td>1</td>\n",
       "      <td>1.0</td>\n",
       "      <td>520</td>\n",
       "      <td>32640</td>\n",
       "      <td>1922</td>\n",
       "      <td>Los Angeles</td>\n",
       "      <td>1-3.5</td>\n",
       "      <td>1-3</td>\n",
       "      <td>2.0</td>\n",
       "      <td>0-1500</td>\n",
       "      <td>1970</td>\n",
       "      <td>1970</td>\n",
       "    </tr>\n",
       "    <tr>\n",
       "      <th>...</th>\n",
       "      <td>...</td>\n",
       "      <td>...</td>\n",
       "      <td>...</td>\n",
       "      <td>...</td>\n",
       "      <td>...</td>\n",
       "      <td>...</td>\n",
       "      <td>...</td>\n",
       "      <td>...</td>\n",
       "      <td>...</td>\n",
       "      <td>...</td>\n",
       "      <td>...</td>\n",
       "      <td>...</td>\n",
       "    </tr>\n",
       "    <tr>\n",
       "      <th>51979</th>\n",
       "      <td>1</td>\n",
       "      <td>1.0</td>\n",
       "      <td>512</td>\n",
       "      <td>58300</td>\n",
       "      <td>1923</td>\n",
       "      <td>Los Angeles</td>\n",
       "      <td>1-3.5</td>\n",
       "      <td>1-3</td>\n",
       "      <td>2.0</td>\n",
       "      <td>0-1500</td>\n",
       "      <td>1970</td>\n",
       "      <td>1970</td>\n",
       "    </tr>\n",
       "    <tr>\n",
       "      <th>52056</th>\n",
       "      <td>1</td>\n",
       "      <td>1.0</td>\n",
       "      <td>588</td>\n",
       "      <td>320000</td>\n",
       "      <td>1921</td>\n",
       "      <td>Los Angeles</td>\n",
       "      <td>1-3.5</td>\n",
       "      <td>1-3</td>\n",
       "      <td>2.0</td>\n",
       "      <td>0-1500</td>\n",
       "      <td>1970</td>\n",
       "      <td>1970</td>\n",
       "    </tr>\n",
       "    <tr>\n",
       "      <th>52211</th>\n",
       "      <td>1</td>\n",
       "      <td>2.0</td>\n",
       "      <td>2508</td>\n",
       "      <td>183902</td>\n",
       "      <td>1958</td>\n",
       "      <td>Orange</td>\n",
       "      <td>1-3.5</td>\n",
       "      <td>1-3</td>\n",
       "      <td>3.0</td>\n",
       "      <td>2001-3000</td>\n",
       "      <td>1970</td>\n",
       "      <td>1970</td>\n",
       "    </tr>\n",
       "    <tr>\n",
       "      <th>52255</th>\n",
       "      <td>1</td>\n",
       "      <td>1.0</td>\n",
       "      <td>800</td>\n",
       "      <td>913725</td>\n",
       "      <td>1932</td>\n",
       "      <td>Los Angeles</td>\n",
       "      <td>1-3.5</td>\n",
       "      <td>1-3</td>\n",
       "      <td>2.0</td>\n",
       "      <td>0-1500</td>\n",
       "      <td>1970</td>\n",
       "      <td>1970</td>\n",
       "    </tr>\n",
       "    <tr>\n",
       "      <th>52432</th>\n",
       "      <td>1</td>\n",
       "      <td>1.0</td>\n",
       "      <td>624</td>\n",
       "      <td>81706</td>\n",
       "      <td>1944</td>\n",
       "      <td>Los Angeles</td>\n",
       "      <td>1-3.5</td>\n",
       "      <td>1-3</td>\n",
       "      <td>2.0</td>\n",
       "      <td>0-1500</td>\n",
       "      <td>1970</td>\n",
       "      <td>1970</td>\n",
       "    </tr>\n",
       "  </tbody>\n",
       "</table>\n",
       "<p>602 rows × 12 columns</p>\n",
       "</div>"
      ],
      "text/plain": [
       "       bedrooms  bathrooms  square_ft  tax_value  year       county  \\\n",
       "88            1        1.0        455      86152  1922       Orange   \n",
       "210           1        3.0       1619    1664376  1949  Los Angeles   \n",
       "227           1        1.0        528     342000  1929  Los Angeles   \n",
       "287           1        1.0        784     188067  1952  Los Angeles   \n",
       "466           1        1.0        520      32640  1922  Los Angeles   \n",
       "...         ...        ...        ...        ...   ...          ...   \n",
       "51979         1        1.0        512      58300  1923  Los Angeles   \n",
       "52056         1        1.0        588     320000  1921  Los Angeles   \n",
       "52211         1        2.0       2508     183902  1958       Orange   \n",
       "52255         1        1.0        800     913725  1932  Los Angeles   \n",
       "52432         1        1.0        624      81706  1944  Los Angeles   \n",
       "\n",
       "      bathrooms_binned bedrooms_binned  total_rooms square_ft_binned  \\\n",
       "88               1-3.5             1-3          2.0           0-1500   \n",
       "210              1-3.5             1-3          4.0        1501-2000   \n",
       "227              1-3.5             1-3          2.0           0-1500   \n",
       "287              1-3.5             1-3          2.0           0-1500   \n",
       "466              1-3.5             1-3          2.0           0-1500   \n",
       "...                ...             ...          ...              ...   \n",
       "51979            1-3.5             1-3          2.0           0-1500   \n",
       "52056            1-3.5             1-3          2.0           0-1500   \n",
       "52211            1-3.5             1-3          3.0        2001-3000   \n",
       "52255            1-3.5             1-3          2.0           0-1500   \n",
       "52432            1-3.5             1-3          2.0           0-1500   \n",
       "\n",
       "      year_binned decade  \n",
       "88           1970   1970  \n",
       "210          1970   1970  \n",
       "227          1970   1970  \n",
       "287          1970   1970  \n",
       "466          1970   1970  \n",
       "...           ...    ...  \n",
       "51979        1970   1970  \n",
       "52056        1970   1970  \n",
       "52211        1970   1970  \n",
       "52255        1970   1970  \n",
       "52432        1970   1970  \n",
       "\n",
       "[602 rows x 12 columns]"
      ]
     },
     "execution_count": 113,
     "metadata": {},
     "output_type": "execute_result"
    }
   ],
   "source": [
    "bin_bound = [0, 1979, 1989, 1999, 2009, 2020 ]\n",
    "\n",
    "bin_labels = ['1970', '1980', '1990', '2000', '2010']\n",
    "\n",
    "df['decade'] = pd.cut(df['year'], bins = bin_bound, labels = bin_labels)\n",
    "df[df.bedrooms == 1]"
   ]
  },
  {
   "cell_type": "code",
   "execution_count": 111,
   "id": "d89d2d6b",
   "metadata": {},
   "outputs": [
    {
     "data": {
      "text/plain": [
       "2016"
      ]
     },
     "execution_count": 111,
     "metadata": {},
     "output_type": "execute_result"
    }
   ],
   "source": [
    "df.year.max()"
   ]
  },
  {
   "cell_type": "code",
   "execution_count": 100,
   "id": "93e9b677",
   "metadata": {},
   "outputs": [
    {
     "data": {
      "image/png": "[encoded data removed]",
      "text/plain": [
       "<Figure size 640x480 with 1 Axes>"
      ]
     },
     "metadata": {},
     "output_type": "display_data"
    }
   ],
   "source": [
    "sns.barplot(data = df.sample(3_000), x='bedrooms_binned', y='tax_value')\n",
    "plt.show()"
   ]
  },
  {
   "cell_type": "code",
   "execution_count": 106,
   "id": "9ac2508f",
   "metadata": {},
   "outputs": [
    {
     "data": {
      "image/png": "[encoded data removed]",
      "text/plain": [
       "<Figure size 640x480 with 1 Axes>"
      ]
     },
     "metadata": {},
     "output_type": "display_data"
    }
   ],
   "source": [
    "sns.barplot(data = df.sample(3_000), x='bathrooms_binned', y='tax_value')\n",
    "plt.show()"
   ]
  },
  {
   "cell_type": "code",
   "execution_count": 107,
   "id": "506dd5a2",
   "metadata": {},
   "outputs": [
    {
     "data": {
      "image/png": "[encoded data removed]",
      "text/plain": [
       "<Figure size 640x480 with 1 Axes>"
      ]
     },
     "metadata": {},
     "output_type": "display_data"
    }
   ],
   "source": [
    "sns.barplot(data = df.sample(3_000), x='total_rooms', y='tax_value')\n",
    "plt.show()"
   ]
  },
  {
   "cell_type": "code",
   "execution_count": 109,
   "id": "9fba9f98",
   "metadata": {},
   "outputs": [
    {
     "data": {
      "image/png": "[encoded data removed]",
      "text/plain": [
       "<Figure size 640x480 with 1 Axes>"
      ]
     },
     "metadata": {},
     "output_type": "display_data"
    }
   ],
   "source": [
    "sns.barplot(data = df.sample(3_000), x='square_ft_binned', y='tax_value')\n",
    "plt.show()"
   ]
  },
  {
   "cell_type": "code",
   "execution_count": 114,
   "id": "3a4533d1",
   "metadata": {},
   "outputs": [
    {
     "data": {
      "image/png": "[encoded data removed]",
      "text/plain": [
       "<Figure size 640x480 with 1 Axes>"
      ]
     },
     "metadata": {},
     "output_type": "display_data"
    }
   ],
   "source": [
    "sns.barplot(data = df.sample(3_000), x='decade', y='tax_value')\n",
    "plt.show()"
   ]
  },
  {
   "cell_type": "code",
   "execution_count": null,
   "id": "228a2f45",
   "metadata": {},
   "outputs": [],
   "source": []
  }
 ],
 "metadata": {
  "kernelspec": {
   "display_name": "Python 3 (ipykernel)",
   "language": "python",
   "name": "python3"
  },
  "language_info": {
   "codemirror_mode": {
    "name": "ipython",
    "version": 3
   },
   "file_extension": ".py",
   "mimetype": "text/x-python",
   "name": "python",
   "nbconvert_exporter": "python",
   "pygments_lexer": "ipython3",
   "version": "3.11.3"
  }
 },
 "nbformat": 4,
 "nbformat_minor": 5
}
