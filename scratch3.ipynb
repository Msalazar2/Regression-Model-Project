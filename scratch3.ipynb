{
 "cells": [
  {
   "cell_type": "code",
   "execution_count": 1,
   "id": "a80b5ad2",
   "metadata": {},
   "outputs": [],
   "source": [
    "import pandas as pd\n",
    "import numpy as np\n",
    "\n",
    "import matplotlib.pyplot as plt\n",
    "import seaborn as sns\n",
    "\n",
    "import wrangle as w\n",
    "import model as m\n",
    "import preprocess as p\n",
    "import explore as ex\n",
    "import evaluate as e\n",
    "\n",
    "from sklearn.linear_model import LinearRegression, LassoLars, TweedieRegressor\n",
    "from sklearn.preprocessing import PolynomialFeatures\n",
    "from sklearn.feature_selection import SelectKBest, f_regression, RFE\n",
    "from sklearn.ensemble import RandomForestRegressor\n",
    "from xgboost import XGBRegressor"
   ]
  },
  {
   "cell_type": "code",
   "execution_count": 2,
   "id": "a9b2511b",
   "metadata": {},
   "outputs": [
    {
     "name": "stdout",
     "output_type": "stream",
     "text": [
      "found data\n"
     ]
    },
    {
     "data": {
      "text/html": [
       "<div>\n",
       "<style scoped>\n",
       "    .dataframe tbody tr th:only-of-type {\n",
       "        vertical-align: middle;\n",
       "    }\n",
       "\n",
       "    .dataframe tbody tr th {\n",
       "        vertical-align: top;\n",
       "    }\n",
       "\n",
       "    .dataframe thead th {\n",
       "        text-align: right;\n",
       "    }\n",
       "</style>\n",
       "<table border=\"1\" class=\"dataframe\">\n",
       "  <thead>\n",
       "    <tr style=\"text-align: right;\">\n",
       "      <th></th>\n",
       "      <th>bedrooms</th>\n",
       "      <th>bathrooms</th>\n",
       "      <th>square_ft</th>\n",
       "      <th>tax_value</th>\n",
       "      <th>year</th>\n",
       "      <th>county</th>\n",
       "    </tr>\n",
       "  </thead>\n",
       "  <tbody>\n",
       "    <tr>\n",
       "      <th>0</th>\n",
       "      <td>4</td>\n",
       "      <td>3.5</td>\n",
       "      <td>3100</td>\n",
       "      <td>1023282</td>\n",
       "      <td>1998</td>\n",
       "      <td>Orange</td>\n",
       "    </tr>\n",
       "    <tr>\n",
       "      <th>1</th>\n",
       "      <td>2</td>\n",
       "      <td>1.0</td>\n",
       "      <td>1465</td>\n",
       "      <td>464000</td>\n",
       "      <td>1967</td>\n",
       "      <td>Ventura</td>\n",
       "    </tr>\n",
       "    <tr>\n",
       "      <th>2</th>\n",
       "      <td>3</td>\n",
       "      <td>2.0</td>\n",
       "      <td>1243</td>\n",
       "      <td>564778</td>\n",
       "      <td>1962</td>\n",
       "      <td>Orange</td>\n",
       "    </tr>\n",
       "    <tr>\n",
       "      <th>3</th>\n",
       "      <td>4</td>\n",
       "      <td>3.0</td>\n",
       "      <td>2376</td>\n",
       "      <td>145143</td>\n",
       "      <td>1970</td>\n",
       "      <td>Los Angeles</td>\n",
       "    </tr>\n",
       "    <tr>\n",
       "      <th>4</th>\n",
       "      <td>4</td>\n",
       "      <td>3.0</td>\n",
       "      <td>2962</td>\n",
       "      <td>773303</td>\n",
       "      <td>1950</td>\n",
       "      <td>Los Angeles</td>\n",
       "    </tr>\n",
       "  </tbody>\n",
       "</table>\n",
       "</div>"
      ],
      "text/plain": [
       "   bedrooms  bathrooms  square_ft  tax_value  year       county\n",
       "0         4        3.5       3100    1023282  1998       Orange\n",
       "1         2        1.0       1465     464000  1967      Ventura\n",
       "2         3        2.0       1243     564778  1962       Orange\n",
       "3         4        3.0       2376     145143  1970  Los Angeles\n",
       "4         4        3.0       2962     773303  1950  Los Angeles"
      ]
     },
     "execution_count": 2,
     "metadata": {},
     "output_type": "execute_result"
    }
   ],
   "source": [
    "df = w.clean_zillow()\n",
    "df.head()"
   ]
  },
  {
   "cell_type": "code",
   "execution_count": 3,
   "id": "20129c08",
   "metadata": {},
   "outputs": [
    {
     "name": "stdout",
     "output_type": "stream",
     "text": [
      "<class 'pandas.core.frame.DataFrame'>\n",
      "Int64Index: 52241 entries, 0 to 52440\n",
      "Data columns (total 6 columns):\n",
      " #   Column     Non-Null Count  Dtype  \n",
      "---  ------     --------------  -----  \n",
      " 0   bedrooms   52241 non-null  int64  \n",
      " 1   bathrooms  52241 non-null  float64\n",
      " 2   square_ft  52241 non-null  int64  \n",
      " 3   tax_value  52241 non-null  int64  \n",
      " 4   year       52241 non-null  int64  \n",
      " 5   county     52241 non-null  object \n",
      "dtypes: float64(1), int64(4), object(1)\n",
      "memory usage: 2.8+ MB\n"
     ]
    }
   ],
   "source": [
    "df.info()"
   ]
  },
  {
   "cell_type": "code",
   "execution_count": 4,
   "id": "c80c71e4",
   "metadata": {
    "scrolled": true
   },
   "outputs": [
    {
     "data": {
      "text/html": [
       "<div>\n",
       "<style scoped>\n",
       "    .dataframe tbody tr th:only-of-type {\n",
       "        vertical-align: middle;\n",
       "    }\n",
       "\n",
       "    .dataframe tbody tr th {\n",
       "        vertical-align: top;\n",
       "    }\n",
       "\n",
       "    .dataframe thead th {\n",
       "        text-align: right;\n",
       "    }\n",
       "</style>\n",
       "<table border=\"1\" class=\"dataframe\">\n",
       "  <thead>\n",
       "    <tr style=\"text-align: right;\">\n",
       "      <th></th>\n",
       "      <th>bedrooms</th>\n",
       "      <th>bathrooms</th>\n",
       "      <th>square_ft</th>\n",
       "      <th>tax_value</th>\n",
       "      <th>year</th>\n",
       "      <th>county</th>\n",
       "      <th>bathrooms_binned</th>\n",
       "      <th>bedrooms_binned</th>\n",
       "      <th>max_square_ft_bin</th>\n",
       "      <th>decade</th>\n",
       "      <th>total_rooms</th>\n",
       "    </tr>\n",
       "  </thead>\n",
       "  <tbody>\n",
       "    <tr>\n",
       "      <th>0</th>\n",
       "      <td>4</td>\n",
       "      <td>3.5</td>\n",
       "      <td>3100</td>\n",
       "      <td>1023282</td>\n",
       "      <td>1998</td>\n",
       "      <td>Orange</td>\n",
       "      <td>3</td>\n",
       "      <td>4</td>\n",
       "      <td>3500</td>\n",
       "      <td>1990</td>\n",
       "      <td>7.5</td>\n",
       "    </tr>\n",
       "    <tr>\n",
       "      <th>1</th>\n",
       "      <td>2</td>\n",
       "      <td>1.0</td>\n",
       "      <td>1465</td>\n",
       "      <td>464000</td>\n",
       "      <td>1967</td>\n",
       "      <td>Ventura</td>\n",
       "      <td>1</td>\n",
       "      <td>2</td>\n",
       "      <td>1500</td>\n",
       "      <td>1960</td>\n",
       "      <td>3.0</td>\n",
       "    </tr>\n",
       "    <tr>\n",
       "      <th>2</th>\n",
       "      <td>3</td>\n",
       "      <td>2.0</td>\n",
       "      <td>1243</td>\n",
       "      <td>564778</td>\n",
       "      <td>1962</td>\n",
       "      <td>Orange</td>\n",
       "      <td>2</td>\n",
       "      <td>3</td>\n",
       "      <td>1500</td>\n",
       "      <td>1960</td>\n",
       "      <td>5.0</td>\n",
       "    </tr>\n",
       "    <tr>\n",
       "      <th>3</th>\n",
       "      <td>4</td>\n",
       "      <td>3.0</td>\n",
       "      <td>2376</td>\n",
       "      <td>145143</td>\n",
       "      <td>1970</td>\n",
       "      <td>Los Angeles</td>\n",
       "      <td>3</td>\n",
       "      <td>4</td>\n",
       "      <td>2500</td>\n",
       "      <td>1970</td>\n",
       "      <td>7.0</td>\n",
       "    </tr>\n",
       "    <tr>\n",
       "      <th>4</th>\n",
       "      <td>4</td>\n",
       "      <td>3.0</td>\n",
       "      <td>2962</td>\n",
       "      <td>773303</td>\n",
       "      <td>1950</td>\n",
       "      <td>Los Angeles</td>\n",
       "      <td>3</td>\n",
       "      <td>4</td>\n",
       "      <td>3000</td>\n",
       "      <td>1950</td>\n",
       "      <td>7.0</td>\n",
       "    </tr>\n",
       "    <tr>\n",
       "      <th>...</th>\n",
       "      <td>...</td>\n",
       "      <td>...</td>\n",
       "      <td>...</td>\n",
       "      <td>...</td>\n",
       "      <td>...</td>\n",
       "      <td>...</td>\n",
       "      <td>...</td>\n",
       "      <td>...</td>\n",
       "      <td>...</td>\n",
       "      <td>...</td>\n",
       "      <td>...</td>\n",
       "    </tr>\n",
       "    <tr>\n",
       "      <th>52436</th>\n",
       "      <td>4</td>\n",
       "      <td>2.0</td>\n",
       "      <td>1633</td>\n",
       "      <td>346534</td>\n",
       "      <td>1962</td>\n",
       "      <td>Los Angeles</td>\n",
       "      <td>2</td>\n",
       "      <td>4</td>\n",
       "      <td>2000</td>\n",
       "      <td>1960</td>\n",
       "      <td>6.0</td>\n",
       "    </tr>\n",
       "    <tr>\n",
       "      <th>52437</th>\n",
       "      <td>2</td>\n",
       "      <td>2.0</td>\n",
       "      <td>1286</td>\n",
       "      <td>354621</td>\n",
       "      <td>1940</td>\n",
       "      <td>Los Angeles</td>\n",
       "      <td>2</td>\n",
       "      <td>2</td>\n",
       "      <td>1500</td>\n",
       "      <td>1940</td>\n",
       "      <td>4.0</td>\n",
       "    </tr>\n",
       "    <tr>\n",
       "      <th>52438</th>\n",
       "      <td>4</td>\n",
       "      <td>2.0</td>\n",
       "      <td>1612</td>\n",
       "      <td>67205</td>\n",
       "      <td>1964</td>\n",
       "      <td>Ventura</td>\n",
       "      <td>2</td>\n",
       "      <td>4</td>\n",
       "      <td>2000</td>\n",
       "      <td>1960</td>\n",
       "      <td>6.0</td>\n",
       "    </tr>\n",
       "    <tr>\n",
       "      <th>52439</th>\n",
       "      <td>3</td>\n",
       "      <td>1.0</td>\n",
       "      <td>1032</td>\n",
       "      <td>49546</td>\n",
       "      <td>1954</td>\n",
       "      <td>Los Angeles</td>\n",
       "      <td>1</td>\n",
       "      <td>3</td>\n",
       "      <td>1500</td>\n",
       "      <td>1950</td>\n",
       "      <td>4.0</td>\n",
       "    </tr>\n",
       "    <tr>\n",
       "      <th>52440</th>\n",
       "      <td>3</td>\n",
       "      <td>2.0</td>\n",
       "      <td>1762</td>\n",
       "      <td>522000</td>\n",
       "      <td>1955</td>\n",
       "      <td>Los Angeles</td>\n",
       "      <td>2</td>\n",
       "      <td>3</td>\n",
       "      <td>2000</td>\n",
       "      <td>1950</td>\n",
       "      <td>5.0</td>\n",
       "    </tr>\n",
       "  </tbody>\n",
       "</table>\n",
       "<p>52241 rows × 11 columns</p>\n",
       "</div>"
      ],
      "text/plain": [
       "       bedrooms  bathrooms  square_ft  tax_value  year       county  \\\n",
       "0             4        3.5       3100    1023282  1998       Orange   \n",
       "1             2        1.0       1465     464000  1967      Ventura   \n",
       "2             3        2.0       1243     564778  1962       Orange   \n",
       "3             4        3.0       2376     145143  1970  Los Angeles   \n",
       "4             4        3.0       2962     773303  1950  Los Angeles   \n",
       "...         ...        ...        ...        ...   ...          ...   \n",
       "52436         4        2.0       1633     346534  1962  Los Angeles   \n",
       "52437         2        2.0       1286     354621  1940  Los Angeles   \n",
       "52438         4        2.0       1612      67205  1964      Ventura   \n",
       "52439         3        1.0       1032      49546  1954  Los Angeles   \n",
       "52440         3        2.0       1762     522000  1955  Los Angeles   \n",
       "\n",
       "      bathrooms_binned bedrooms_binned max_square_ft_bin decade  total_rooms  \n",
       "0                    3               4              3500   1990          7.5  \n",
       "1                    1               2              1500   1960          3.0  \n",
       "2                    2               3              1500   1960          5.0  \n",
       "3                    3               4              2500   1970          7.0  \n",
       "4                    3               4              3000   1950          7.0  \n",
       "...                ...             ...               ...    ...          ...  \n",
       "52436                2               4              2000   1960          6.0  \n",
       "52437                2               2              1500   1940          4.0  \n",
       "52438                2               4              2000   1960          6.0  \n",
       "52439                1               3              1500   1950          4.0  \n",
       "52440                2               3              2000   1950          5.0  \n",
       "\n",
       "[52241 rows x 11 columns]"
      ]
     },
     "execution_count": 4,
     "metadata": {},
     "output_type": "execute_result"
    }
   ],
   "source": [
    "ex.bin_data(df)"
   ]
  },
  {
   "cell_type": "code",
   "execution_count": 5,
   "id": "b5126750",
   "metadata": {},
   "outputs": [],
   "source": [
    "train, val, test = p.split_data(df)"
   ]
  },
  {
   "cell_type": "code",
   "execution_count": 6,
   "id": "9378b504",
   "metadata": {},
   "outputs": [
    {
     "data": {
      "text/html": [
       "<div>\n",
       "<style scoped>\n",
       "    .dataframe tbody tr th:only-of-type {\n",
       "        vertical-align: middle;\n",
       "    }\n",
       "\n",
       "    .dataframe tbody tr th {\n",
       "        vertical-align: top;\n",
       "    }\n",
       "\n",
       "    .dataframe thead th {\n",
       "        text-align: right;\n",
       "    }\n",
       "</style>\n",
       "<table border=\"1\" class=\"dataframe\">\n",
       "  <thead>\n",
       "    <tr style=\"text-align: right;\">\n",
       "      <th></th>\n",
       "      <th>bedrooms</th>\n",
       "      <th>bathrooms</th>\n",
       "      <th>square_ft</th>\n",
       "      <th>tax_value</th>\n",
       "      <th>year</th>\n",
       "      <th>county</th>\n",
       "      <th>bathrooms_binned</th>\n",
       "      <th>bedrooms_binned</th>\n",
       "      <th>max_square_ft_bin</th>\n",
       "      <th>decade</th>\n",
       "      <th>total_rooms</th>\n",
       "    </tr>\n",
       "  </thead>\n",
       "  <tbody>\n",
       "    <tr>\n",
       "      <th>44648</th>\n",
       "      <td>4</td>\n",
       "      <td>2.0</td>\n",
       "      <td>1430</td>\n",
       "      <td>316414</td>\n",
       "      <td>1946</td>\n",
       "      <td>Los Angeles</td>\n",
       "      <td>2</td>\n",
       "      <td>4</td>\n",
       "      <td>1500</td>\n",
       "      <td>1940</td>\n",
       "      <td>6.0</td>\n",
       "    </tr>\n",
       "    <tr>\n",
       "      <th>33031</th>\n",
       "      <td>2</td>\n",
       "      <td>1.0</td>\n",
       "      <td>1547</td>\n",
       "      <td>66845</td>\n",
       "      <td>1938</td>\n",
       "      <td>Los Angeles</td>\n",
       "      <td>1</td>\n",
       "      <td>2</td>\n",
       "      <td>2000</td>\n",
       "      <td>1930</td>\n",
       "      <td>3.0</td>\n",
       "    </tr>\n",
       "    <tr>\n",
       "      <th>810</th>\n",
       "      <td>3</td>\n",
       "      <td>2.0</td>\n",
       "      <td>2051</td>\n",
       "      <td>474197</td>\n",
       "      <td>1985</td>\n",
       "      <td>Ventura</td>\n",
       "      <td>2</td>\n",
       "      <td>3</td>\n",
       "      <td>2500</td>\n",
       "      <td>1980</td>\n",
       "      <td>5.0</td>\n",
       "    </tr>\n",
       "    <tr>\n",
       "      <th>11555</th>\n",
       "      <td>3</td>\n",
       "      <td>4.0</td>\n",
       "      <td>2603</td>\n",
       "      <td>256558</td>\n",
       "      <td>1948</td>\n",
       "      <td>Los Angeles</td>\n",
       "      <td>4</td>\n",
       "      <td>3</td>\n",
       "      <td>3000</td>\n",
       "      <td>1940</td>\n",
       "      <td>7.0</td>\n",
       "    </tr>\n",
       "    <tr>\n",
       "      <th>33070</th>\n",
       "      <td>3</td>\n",
       "      <td>3.0</td>\n",
       "      <td>2953</td>\n",
       "      <td>1155958</td>\n",
       "      <td>2000</td>\n",
       "      <td>Orange</td>\n",
       "      <td>3</td>\n",
       "      <td>3</td>\n",
       "      <td>3000</td>\n",
       "      <td>2000</td>\n",
       "      <td>6.0</td>\n",
       "    </tr>\n",
       "  </tbody>\n",
       "</table>\n",
       "</div>"
      ],
      "text/plain": [
       "       bedrooms  bathrooms  square_ft  tax_value  year       county  \\\n",
       "44648         4        2.0       1430     316414  1946  Los Angeles   \n",
       "33031         2        1.0       1547      66845  1938  Los Angeles   \n",
       "810           3        2.0       2051     474197  1985      Ventura   \n",
       "11555         3        4.0       2603     256558  1948  Los Angeles   \n",
       "33070         3        3.0       2953    1155958  2000       Orange   \n",
       "\n",
       "      bathrooms_binned bedrooms_binned max_square_ft_bin decade  total_rooms  \n",
       "44648                2               4              1500   1940          6.0  \n",
       "33031                1               2              2000   1930          3.0  \n",
       "810                  2               3              2500   1980          5.0  \n",
       "11555                4               3              3000   1940          7.0  \n",
       "33070                3               3              3000   2000          6.0  "
      ]
     },
     "execution_count": 6,
     "metadata": {},
     "output_type": "execute_result"
    }
   ],
   "source": [
    "train.head()"
   ]
  },
  {
   "cell_type": "code",
   "execution_count": 7,
   "id": "58c132cc",
   "metadata": {},
   "outputs": [
    {
     "data": {
      "text/plain": [
       "<Axes: >"
      ]
     },
     "execution_count": 7,
     "metadata": {},
     "output_type": "execute_result"
    },
    {
     "data": {
      "image/png": "[encoded data removed]",
      "text/plain": [
       "<Figure size 640x480 with 1 Axes>"
      ]
     },
     "metadata": {},
     "output_type": "display_data"
    }
   ],
   "source": [
    "train.year.hist(grid = False)"
   ]
  },
  {
   "cell_type": "code",
   "execution_count": 8,
   "id": "efb11df8",
   "metadata": {},
   "outputs": [
    {
     "data": {
      "text/plain": [
       "<Axes: >"
      ]
     },
     "execution_count": 8,
     "metadata": {},
     "output_type": "execute_result"
    },
    {
     "data": {
      "image/png": "[encoded data removed]",
      "text/plain": [
       "<Figure size 640x480 with 1 Axes>"
      ]
     },
     "metadata": {},
     "output_type": "display_data"
    }
   ],
   "source": [
    "train.bathrooms.hist(grid = False)"
   ]
  },
  {
   "cell_type": "code",
   "execution_count": 9,
   "id": "71f2efad",
   "metadata": {},
   "outputs": [
    {
     "data": {
      "text/plain": [
       "<seaborn.axisgrid.FacetGrid at 0x148e420d0>"
      ]
     },
     "execution_count": 9,
     "metadata": {},
     "output_type": "execute_result"
    },
    {
     "data": {
      "image/png": "[encoded data removed]",
      "text/plain": [
       "<Figure size 500x500 with 1 Axes>"
      ]
     },
     "metadata": {},
     "output_type": "display_data"
    }
   ],
   "source": [
    "sns.displot(x = 'decade', data = train)"
   ]
  },
  {
   "cell_type": "markdown",
   "id": "a0c3b8c9",
   "metadata": {},
   "source": [
    "does bedrooms"
   ]
  },
  {
   "cell_type": "code",
   "execution_count": 10,
   "id": "700d9151",
   "metadata": {},
   "outputs": [
    {
     "data": {
      "image/png": "[encoded data removed]",
      "text/plain": [
       "<Figure size 640x480 with 1 Axes>"
      ]
     },
     "metadata": {},
     "output_type": "display_data"
    }
   ],
   "source": [
    "sns.barplot(data = df.sample(3_000), x='county', y='tax_value')\n",
    "plt.show()"
   ]
  },
  {
   "cell_type": "code",
   "execution_count": 11,
   "id": "6cace3d1",
   "metadata": {},
   "outputs": [
    {
     "data": {
      "image/png": "[encoded data removed]",
      "text/plain": [
       "<Figure size 640x480 with 1 Axes>"
      ]
     },
     "metadata": {},
     "output_type": "display_data"
    }
   ],
   "source": [
    "sns.barplot(data = train.sample(3_000), x='bedrooms_binned', y='tax_value')\n",
    "plt.show()"
   ]
  },
  {
   "cell_type": "code",
   "execution_count": 26,
   "id": "a3805251",
   "metadata": {},
   "outputs": [],
   "source": [
    "def bar_plt(df, feature, target):\n",
    "    cols = ['grey', 'skyblue', 'steelblue']\n",
    "    ax = sns.barplot(data = df, x = feature, y = target, errorbar = None, palette = cols)\n",
    "    ax = plt.gca()\n",
    "    for p in ax.patches:\n",
    "        value = int(p.get_height())  # Get the height (value) of each bar\n",
    "        if value != 0:  # Exclude zero values\n",
    "            label = f\"${value:,}\"  # Format value with commas\n",
    "            if value == 3218184:  # Customize the label for the highest value\n",
    "                ax.text(p.get_x() + p.get_width() / 2, p.get_height(), label, ha=\"center\", va=\"bottom\", fontweight=\"bold\")\n",
    "            else:\n",
    "                ax.text(p.get_x() + p.get_width() / 2, p.get_height(), label, ha=\"center\", va=\"bottom\")\n",
    "    new_labels = ['0-1', '0-3', 'Category 3', 'Category 4']\n",
    "    plt.xticks(range(len(new_labels)), new_labels)\n",
    "    plt.xlabel('Bedrooms')\n",
    "    plt.ylabel('Tax Value')\n",
    "    plt.yticks([])\n",
    "    sns.despine(ax=ax, left=True, bottom=True)\n",
    "    ax.yaxis.set_visible(False)\n",
    "    plt.title(\"Average tax value\", y= 1.10)  # Set the title\n",
    "    plt.show()"
   ]
  },
  {
   "cell_type": "code",
   "execution_count": 27,
   "id": "4bb3b675",
   "metadata": {
    "scrolled": false
   },
   "outputs": [
    {
     "data": {
      "image/png": "[encoded data removed]",
      "text/plain": [
       "<Figure size 640x480 with 1 Axes>"
      ]
     },
     "metadata": {},
     "output_type": "display_data"
    }
   ],
   "source": [
    "bar_plt(train, 'bedrooms_binned', 'tax_value')"
   ]
  },
  {
   "cell_type": "code",
   "execution_count": 20,
   "id": "a3f12f8c",
   "metadata": {},
   "outputs": [],
   "source": [
    "def bar_plt2(df, feature, target):\n",
    "    cols = [ 'silver', 'steelblue']\n",
    "    ax = sns.barplot(data = df, x = feature, y = target, errorbar = None, palette = cols)\n",
    "    ax = plt.gca()\n",
    "    for p in ax.patches:\n",
    "        value = int(p.get_height())  # Get the height (value) of each bar\n",
    "        if value != 0:  # Exclude zero values\n",
    "            label = f\"${value:,}\"  # Format value with commas\n",
    "            if value == 1439645:  # Customize the label for the highest value\n",
    "                ax.text(p.get_x() + p.get_width() / 2, p.get_height(), label, ha=\"center\", va=\"bottom\", fontweight=\"bold\")\n",
    "            else:\n",
    "                ax.text(p.get_x() + p.get_width() / 2, p.get_height(), label, ha=\"center\", va=\"bottom\", fontsize = 10)\n",
    "    \n",
    "    plt.xlabel('Square Ft')\n",
    "    plt.ylabel('Tax Value')\n",
    "    plt.yticks([])\n",
    "    sns.despine(ax=ax, left=True, bottom=True)\n",
    "    ax.yaxis.set_visible(False)\n",
    "    plt.title(\"Average tax value\", y= 1.10)  # Set the title\n",
    "    plt.show()"
   ]
  },
  {
   "cell_type": "code",
   "execution_count": 21,
   "id": "818ede09",
   "metadata": {},
   "outputs": [
    {
     "ename": "ValueError",
     "evalue": "Could not interpret input 'square_ft_binned'",
     "output_type": "error",
     "traceback": [
      "\u001b[0;31m---------------------------------------------------------------------------\u001b[0m",
      "\u001b[0;31mValueError\u001b[0m                                Traceback (most recent call last)",
      "Cell \u001b[0;32mIn[21], line 1\u001b[0m\n\u001b[0;32m----> 1\u001b[0m bar_plt2(train, \u001b[38;5;124m'\u001b[39m\u001b[38;5;124msquare_ft_binned\u001b[39m\u001b[38;5;124m'\u001b[39m, \u001b[38;5;124m'\u001b[39m\u001b[38;5;124mtax_value\u001b[39m\u001b[38;5;124m'\u001b[39m)\n",
      "Cell \u001b[0;32mIn[20], line 3\u001b[0m, in \u001b[0;36mbar_plt2\u001b[0;34m(df, feature, target)\u001b[0m\n\u001b[1;32m      1\u001b[0m \u001b[38;5;28;01mdef\u001b[39;00m \u001b[38;5;21mbar_plt2\u001b[39m(df, feature, target):\n\u001b[1;32m      2\u001b[0m     cols \u001b[38;5;241m=\u001b[39m [ \u001b[38;5;124m'\u001b[39m\u001b[38;5;124msilver\u001b[39m\u001b[38;5;124m'\u001b[39m, \u001b[38;5;124m'\u001b[39m\u001b[38;5;124msteelblue\u001b[39m\u001b[38;5;124m'\u001b[39m]\n\u001b[0;32m----> 3\u001b[0m     ax \u001b[38;5;241m=\u001b[39m sns\u001b[38;5;241m.\u001b[39mbarplot(data \u001b[38;5;241m=\u001b[39m df, x \u001b[38;5;241m=\u001b[39m feature, y \u001b[38;5;241m=\u001b[39m target, errorbar \u001b[38;5;241m=\u001b[39m \u001b[38;5;28;01mNone\u001b[39;00m, palette \u001b[38;5;241m=\u001b[39m cols)\n\u001b[1;32m      4\u001b[0m     ax \u001b[38;5;241m=\u001b[39m plt\u001b[38;5;241m.\u001b[39mgca()\n\u001b[1;32m      5\u001b[0m     \u001b[38;5;28;01mfor\u001b[39;00m p \u001b[38;5;129;01min\u001b[39;00m ax\u001b[38;5;241m.\u001b[39mpatches:\n",
      "File \u001b[0;32m/usr/local/anaconda3/lib/python3.11/site-packages/seaborn/categorical.py:2755\u001b[0m, in \u001b[0;36mbarplot\u001b[0;34m(data, x, y, hue, order, hue_order, estimator, errorbar, n_boot, units, seed, orient, color, palette, saturation, width, errcolor, errwidth, capsize, dodge, ci, ax, **kwargs)\u001b[0m\n\u001b[1;32m   2752\u001b[0m \u001b[38;5;28;01mif\u001b[39;00m estimator \u001b[38;5;129;01mis\u001b[39;00m \u001b[38;5;28mlen\u001b[39m:\n\u001b[1;32m   2753\u001b[0m     estimator \u001b[38;5;241m=\u001b[39m \u001b[38;5;124m\"\u001b[39m\u001b[38;5;124msize\u001b[39m\u001b[38;5;124m\"\u001b[39m\n\u001b[0;32m-> 2755\u001b[0m plotter \u001b[38;5;241m=\u001b[39m _BarPlotter(x, y, hue, data, order, hue_order,\n\u001b[1;32m   2756\u001b[0m                       estimator, errorbar, n_boot, units, seed,\n\u001b[1;32m   2757\u001b[0m                       orient, color, palette, saturation,\n\u001b[1;32m   2758\u001b[0m                       width, errcolor, errwidth, capsize, dodge)\n\u001b[1;32m   2760\u001b[0m \u001b[38;5;28;01mif\u001b[39;00m ax \u001b[38;5;129;01mis\u001b[39;00m \u001b[38;5;28;01mNone\u001b[39;00m:\n\u001b[1;32m   2761\u001b[0m     ax \u001b[38;5;241m=\u001b[39m plt\u001b[38;5;241m.\u001b[39mgca()\n",
      "File \u001b[0;32m/usr/local/anaconda3/lib/python3.11/site-packages/seaborn/categorical.py:1530\u001b[0m, in \u001b[0;36m_BarPlotter.__init__\u001b[0;34m(self, x, y, hue, data, order, hue_order, estimator, errorbar, n_boot, units, seed, orient, color, palette, saturation, width, errcolor, errwidth, capsize, dodge)\u001b[0m\n\u001b[1;32m   1525\u001b[0m \u001b[38;5;28;01mdef\u001b[39;00m \u001b[38;5;21m__init__\u001b[39m(\u001b[38;5;28mself\u001b[39m, x, y, hue, data, order, hue_order,\n\u001b[1;32m   1526\u001b[0m              estimator, errorbar, n_boot, units, seed,\n\u001b[1;32m   1527\u001b[0m              orient, color, palette, saturation, width,\n\u001b[1;32m   1528\u001b[0m              errcolor, errwidth, capsize, dodge):\n\u001b[1;32m   1529\u001b[0m \u001b[38;5;250m    \u001b[39m\u001b[38;5;124;03m\"\"\"Initialize the plotter.\"\"\"\u001b[39;00m\n\u001b[0;32m-> 1530\u001b[0m     \u001b[38;5;28mself\u001b[39m\u001b[38;5;241m.\u001b[39mestablish_variables(x, y, hue, data, orient,\n\u001b[1;32m   1531\u001b[0m                              order, hue_order, units)\n\u001b[1;32m   1532\u001b[0m     \u001b[38;5;28mself\u001b[39m\u001b[38;5;241m.\u001b[39mestablish_colors(color, palette, saturation)\n\u001b[1;32m   1533\u001b[0m     \u001b[38;5;28mself\u001b[39m\u001b[38;5;241m.\u001b[39mestimate_statistic(estimator, errorbar, n_boot, seed)\n",
      "File \u001b[0;32m/usr/local/anaconda3/lib/python3.11/site-packages/seaborn/categorical.py:541\u001b[0m, in \u001b[0;36m_CategoricalPlotter.establish_variables\u001b[0;34m(self, x, y, hue, data, orient, order, hue_order, units)\u001b[0m\n\u001b[1;32m    539\u001b[0m     \u001b[38;5;28;01mif\u001b[39;00m \u001b[38;5;28misinstance\u001b[39m(var, \u001b[38;5;28mstr\u001b[39m):\n\u001b[1;32m    540\u001b[0m         err \u001b[38;5;241m=\u001b[39m \u001b[38;5;124mf\u001b[39m\u001b[38;5;124m\"\u001b[39m\u001b[38;5;124mCould not interpret input \u001b[39m\u001b[38;5;124m'\u001b[39m\u001b[38;5;132;01m{\u001b[39;00mvar\u001b[38;5;132;01m}\u001b[39;00m\u001b[38;5;124m'\u001b[39m\u001b[38;5;124m\"\u001b[39m\n\u001b[0;32m--> 541\u001b[0m         \u001b[38;5;28;01mraise\u001b[39;00m \u001b[38;5;167;01mValueError\u001b[39;00m(err)\n\u001b[1;32m    543\u001b[0m \u001b[38;5;66;03m# Figure out the plotting orientation\u001b[39;00m\n\u001b[1;32m    544\u001b[0m orient \u001b[38;5;241m=\u001b[39m infer_orient(\n\u001b[1;32m    545\u001b[0m     x, y, orient, require_numeric\u001b[38;5;241m=\u001b[39m\u001b[38;5;28mself\u001b[39m\u001b[38;5;241m.\u001b[39mrequire_numeric\n\u001b[1;32m    546\u001b[0m )\n",
      "\u001b[0;31mValueError\u001b[0m: Could not interpret input 'square_ft_binned'"
     ]
    }
   ],
   "source": [
    "bar_plt2(train, 'square_ft_binned', 'tax_value')"
   ]
  },
  {
   "cell_type": "code",
   "execution_count": 31,
   "id": "00a7d4c0",
   "metadata": {
    "scrolled": true
   },
   "outputs": [
    {
     "data": {
      "image/png": "[encoded data removed]",
      "text/plain": [
       "<Figure size 640x480 with 1 Axes>"
      ]
     },
     "metadata": {},
     "output_type": "display_data"
    }
   ],
   "source": [
    "sns.barplot(data = train.sample(3_000), x='decade', y='tax_value', hue = 'county')\n",
    "plt.show()"
   ]
  },
  {
   "cell_type": "code",
   "execution_count": 29,
   "id": "25f4a46c",
   "metadata": {},
   "outputs": [
    {
     "data": {
      "image/png": "[encoded data removed]",
      "text/plain": [
       "<Figure size 640x480 with 1 Axes>"
      ]
     },
     "metadata": {},
     "output_type": "display_data"
    }
   ],
   "source": [
    "sns.barplot(data = train.sample(3_000), x='decade', y='tax_value')\n",
    "plt.show()"
   ]
  },
  {
   "cell_type": "code",
   "execution_count": 30,
   "id": "1b028a97",
   "metadata": {},
   "outputs": [
    {
     "ename": "ValueError",
     "evalue": "Could not interpret input 'square_ft_binned'",
     "output_type": "error",
     "traceback": [
      "\u001b[0;31m---------------------------------------------------------------------------\u001b[0m",
      "\u001b[0;31mValueError\u001b[0m                                Traceback (most recent call last)",
      "Cell \u001b[0;32mIn[30], line 1\u001b[0m\n\u001b[0;32m----> 1\u001b[0m sns\u001b[38;5;241m.\u001b[39mbarplot(data \u001b[38;5;241m=\u001b[39m train\u001b[38;5;241m.\u001b[39msample(\u001b[38;5;241m3_000\u001b[39m), x\u001b[38;5;241m=\u001b[39m\u001b[38;5;124m'\u001b[39m\u001b[38;5;124msquare_ft_binned\u001b[39m\u001b[38;5;124m'\u001b[39m, y\u001b[38;5;241m=\u001b[39m\u001b[38;5;124m'\u001b[39m\u001b[38;5;124mtax_value\u001b[39m\u001b[38;5;124m'\u001b[39m, hue \u001b[38;5;241m=\u001b[39m \u001b[38;5;124m'\u001b[39m\u001b[38;5;124mcounty\u001b[39m\u001b[38;5;124m'\u001b[39m)\n\u001b[1;32m      2\u001b[0m plt\u001b[38;5;241m.\u001b[39mshow()\n",
      "File \u001b[0;32m/usr/local/anaconda3/lib/python3.11/site-packages/seaborn/categorical.py:2755\u001b[0m, in \u001b[0;36mbarplot\u001b[0;34m(data, x, y, hue, order, hue_order, estimator, errorbar, n_boot, units, seed, orient, color, palette, saturation, width, errcolor, errwidth, capsize, dodge, ci, ax, **kwargs)\u001b[0m\n\u001b[1;32m   2752\u001b[0m \u001b[38;5;28;01mif\u001b[39;00m estimator \u001b[38;5;129;01mis\u001b[39;00m \u001b[38;5;28mlen\u001b[39m:\n\u001b[1;32m   2753\u001b[0m     estimator \u001b[38;5;241m=\u001b[39m \u001b[38;5;124m\"\u001b[39m\u001b[38;5;124msize\u001b[39m\u001b[38;5;124m\"\u001b[39m\n\u001b[0;32m-> 2755\u001b[0m plotter \u001b[38;5;241m=\u001b[39m _BarPlotter(x, y, hue, data, order, hue_order,\n\u001b[1;32m   2756\u001b[0m                       estimator, errorbar, n_boot, units, seed,\n\u001b[1;32m   2757\u001b[0m                       orient, color, palette, saturation,\n\u001b[1;32m   2758\u001b[0m                       width, errcolor, errwidth, capsize, dodge)\n\u001b[1;32m   2760\u001b[0m \u001b[38;5;28;01mif\u001b[39;00m ax \u001b[38;5;129;01mis\u001b[39;00m \u001b[38;5;28;01mNone\u001b[39;00m:\n\u001b[1;32m   2761\u001b[0m     ax \u001b[38;5;241m=\u001b[39m plt\u001b[38;5;241m.\u001b[39mgca()\n",
      "File \u001b[0;32m/usr/local/anaconda3/lib/python3.11/site-packages/seaborn/categorical.py:1530\u001b[0m, in \u001b[0;36m_BarPlotter.__init__\u001b[0;34m(self, x, y, hue, data, order, hue_order, estimator, errorbar, n_boot, units, seed, orient, color, palette, saturation, width, errcolor, errwidth, capsize, dodge)\u001b[0m\n\u001b[1;32m   1525\u001b[0m \u001b[38;5;28;01mdef\u001b[39;00m \u001b[38;5;21m__init__\u001b[39m(\u001b[38;5;28mself\u001b[39m, x, y, hue, data, order, hue_order,\n\u001b[1;32m   1526\u001b[0m              estimator, errorbar, n_boot, units, seed,\n\u001b[1;32m   1527\u001b[0m              orient, color, palette, saturation, width,\n\u001b[1;32m   1528\u001b[0m              errcolor, errwidth, capsize, dodge):\n\u001b[1;32m   1529\u001b[0m \u001b[38;5;250m    \u001b[39m\u001b[38;5;124;03m\"\"\"Initialize the plotter.\"\"\"\u001b[39;00m\n\u001b[0;32m-> 1530\u001b[0m     \u001b[38;5;28mself\u001b[39m\u001b[38;5;241m.\u001b[39mestablish_variables(x, y, hue, data, orient,\n\u001b[1;32m   1531\u001b[0m                              order, hue_order, units)\n\u001b[1;32m   1532\u001b[0m     \u001b[38;5;28mself\u001b[39m\u001b[38;5;241m.\u001b[39mestablish_colors(color, palette, saturation)\n\u001b[1;32m   1533\u001b[0m     \u001b[38;5;28mself\u001b[39m\u001b[38;5;241m.\u001b[39mestimate_statistic(estimator, errorbar, n_boot, seed)\n",
      "File \u001b[0;32m/usr/local/anaconda3/lib/python3.11/site-packages/seaborn/categorical.py:541\u001b[0m, in \u001b[0;36m_CategoricalPlotter.establish_variables\u001b[0;34m(self, x, y, hue, data, orient, order, hue_order, units)\u001b[0m\n\u001b[1;32m    539\u001b[0m     \u001b[38;5;28;01mif\u001b[39;00m \u001b[38;5;28misinstance\u001b[39m(var, \u001b[38;5;28mstr\u001b[39m):\n\u001b[1;32m    540\u001b[0m         err \u001b[38;5;241m=\u001b[39m \u001b[38;5;124mf\u001b[39m\u001b[38;5;124m\"\u001b[39m\u001b[38;5;124mCould not interpret input \u001b[39m\u001b[38;5;124m'\u001b[39m\u001b[38;5;132;01m{\u001b[39;00mvar\u001b[38;5;132;01m}\u001b[39;00m\u001b[38;5;124m'\u001b[39m\u001b[38;5;124m\"\u001b[39m\n\u001b[0;32m--> 541\u001b[0m         \u001b[38;5;28;01mraise\u001b[39;00m \u001b[38;5;167;01mValueError\u001b[39;00m(err)\n\u001b[1;32m    543\u001b[0m \u001b[38;5;66;03m# Figure out the plotting orientation\u001b[39;00m\n\u001b[1;32m    544\u001b[0m orient \u001b[38;5;241m=\u001b[39m infer_orient(\n\u001b[1;32m    545\u001b[0m     x, y, orient, require_numeric\u001b[38;5;241m=\u001b[39m\u001b[38;5;28mself\u001b[39m\u001b[38;5;241m.\u001b[39mrequire_numeric\n\u001b[1;32m    546\u001b[0m )\n",
      "\u001b[0;31mValueError\u001b[0m: Could not interpret input 'square_ft_binned'"
     ]
    }
   ],
   "source": [
    "sns.barplot(data = train.sample(3_000), x='square_ft_binned', y='tax_value', hue = 'county')\n",
    "plt.show()"
   ]
  },
  {
   "cell_type": "code",
   "execution_count": null,
   "id": "b4239e16",
   "metadata": {
    "scrolled": true
   },
   "outputs": [],
   "source": [
    "sns.barplot(data = train.sample(3_000), x='square_ft_binned', y='tax_value')\n",
    "plt.show()"
   ]
  },
  {
   "cell_type": "code",
   "execution_count": null,
   "id": "564feccc",
   "metadata": {},
   "outputs": [],
   "source": [
    "train.head()"
   ]
  },
  {
   "cell_type": "code",
   "execution_count": null,
   "id": "cf7f10bc",
   "metadata": {},
   "outputs": [],
   "source": [
    "def drop_binned_features(train, val, test):\n",
    "\n",
    "    train = train.drop(columns = ['bathrooms', 'bedrooms', 'square_ft'])\n",
    "    val = val.drop(columns = ['bathrooms', 'bedrooms', 'square_ft'])\n",
    "    test = test.drop(columns = ['bathrooms', 'bedrooms', 'square_ft'])\n",
    "\n",
    "    return train, val, test"
   ]
  },
  {
   "cell_type": "code",
   "execution_count": null,
   "id": "7fb66ab2",
   "metadata": {},
   "outputs": [],
   "source": [
    "train, val, test = drop_binned_features(train, val, test)\n",
    "train.head()"
   ]
  },
  {
   "cell_type": "code",
   "execution_count": null,
   "id": "6f62f6fa",
   "metadata": {},
   "outputs": [],
   "source": [
    "to_scale = ['year']\n",
    "train, val, test = w.scale_data(train, val, test, to_scale)"
   ]
  },
  {
   "cell_type": "code",
   "execution_count": null,
   "id": "9467471f",
   "metadata": {},
   "outputs": [],
   "source": [
    "train, val, test = p.dummies(train, val, test)"
   ]
  },
  {
   "cell_type": "code",
   "execution_count": null,
   "id": "694b704a",
   "metadata": {},
   "outputs": [],
   "source": [
    "X_train, y_train = p.xy_split(train)\n",
    "X_val, y_val = p.xy_split(val)"
   ]
  },
  {
   "cell_type": "code",
   "execution_count": null,
   "id": "28e08d0d",
   "metadata": {},
   "outputs": [],
   "source": [
    "X_train.head()"
   ]
  },
  {
   "cell_type": "code",
   "execution_count": null,
   "id": "72a29466",
   "metadata": {},
   "outputs": [],
   "source": [
    "skb = SelectKBest(f_regression, k = 3)\n",
    "\n",
    "skb.fit(X_train, y_train)"
   ]
  },
  {
   "cell_type": "code",
   "execution_count": null,
   "id": "85f405a5",
   "metadata": {},
   "outputs": [],
   "source": [
    "skb_mask = skb.get_support()\n",
    "\n",
    "X_train.columns[skb_mask]"
   ]
  },
  {
   "cell_type": "code",
   "execution_count": null,
   "id": "a1eb16c2",
   "metadata": {},
   "outputs": [],
   "source": [
    "y_train.median(), y_train.mean()"
   ]
  },
  {
   "cell_type": "code",
   "execution_count": null,
   "id": "1c020357",
   "metadata": {},
   "outputs": [],
   "source": [
    "baselines = pd.DataFrame({'y_actual': y_train,\n",
    "                         'y_mean': y_train.mean(),\n",
    "                         'y_median': y_train.median()})\n",
    "\n",
    "baselines.head()"
   ]
  },
  {
   "cell_type": "code",
   "execution_count": null,
   "id": "aca5c455",
   "metadata": {},
   "outputs": [],
   "source": [
    "m.eval_model(baselines.y_actual, baselines.y_mean)"
   ]
  },
  {
   "cell_type": "code",
   "execution_count": null,
   "id": "4628aeef",
   "metadata": {},
   "outputs": [],
   "source": [
    "m.eval_model(baselines.y_actual, baselines.y_median)"
   ]
  },
  {
   "cell_type": "code",
   "execution_count": null,
   "id": "39ac9efd",
   "metadata": {},
   "outputs": [],
   "source": [
    "lm = LinearRegression()\n",
    "\n",
    "m.train_model(lm, X_train, y_train, X_val, y_val)"
   ]
  },
  {
   "cell_type": "code",
   "execution_count": null,
   "id": "f182b167",
   "metadata": {},
   "outputs": [],
   "source": [
    "xgbr = XGBRegressor()\n",
    "\n",
    "m.train_model(xgbr, X_train, y_train, X_val, y_val)"
   ]
  },
  {
   "cell_type": "code",
   "execution_count": null,
   "id": "f5cda95e",
   "metadata": {},
   "outputs": [],
   "source": [
    "train.info()"
   ]
  },
  {
   "cell_type": "code",
   "execution_count": null,
   "id": "aac9e289",
   "metadata": {},
   "outputs": [],
   "source": [
    "poly = PolynomialFeatures()\n",
    "X_train_second = poly.fit_transform(X_train)\n",
    "X_val_second = poly.fit_transform(X_val)"
   ]
  },
  {
   "cell_type": "code",
   "execution_count": null,
   "id": "568e06ff",
   "metadata": {},
   "outputs": [],
   "source": [
    "lm = LinearRegression()\n",
    "\n",
    "m.train_model(lm, X_train_second, y_train, X_val_second, y_val)"
   ]
  },
  {
   "cell_type": "code",
   "execution_count": null,
   "id": "eca546f9",
   "metadata": {},
   "outputs": [],
   "source": [
    "len(df[df.year < 1900])"
   ]
  },
  {
   "cell_type": "code",
   "execution_count": null,
   "id": "c8e3fb51",
   "metadata": {},
   "outputs": [],
   "source": []
  }
 ],
 "metadata": {
  "kernelspec": {
   "display_name": "Python 3 (ipykernel)",
   "language": "python",
   "name": "python3"
  },
  "language_info": {
   "codemirror_mode": {
    "name": "ipython",
    "version": 3
   },
   "file_extension": ".py",
   "mimetype": "text/x-python",
   "name": "python",
   "nbconvert_exporter": "python",
   "pygments_lexer": "ipython3",
   "version": "3.11.3"
  }
 },
 "nbformat": 4,
 "nbformat_minor": 5
}
